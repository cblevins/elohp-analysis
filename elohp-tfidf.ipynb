{
 "cells": [
  {
   "cell_type": "markdown",
   "metadata": {},
   "source": [
    "# TF-IDF with Scikit-Learn"
   ]
  },
  {
   "cell_type": "markdown",
   "metadata": {},
   "source": [
    "In the previous lesson, we learned about a text analysis method called *term frequency–inverse document frequency*, often abbreviated *tf-idf*. Tf-idf is a method that tries to identify the most distinctively frequent or significant words in a document. We specifically learned how to calculate tf-idf scores using word frequencies per page—or \"extracted features\"—made available by the HathiTrust Digital Library.\n",
    "\n",
    "In this lesson, we're going to learn how to calculate tf-idf scores using a collection of plain text (.txt) files and the Python library scikit-learn, which has a quick and nifty module called [TfidfVectorizer](https://scikit-learn.org/stable/modules/generated/sklearn.feature_extraction.text.TfidfVectorizer.html).\n",
    "\n",
    "In this lesson, we will cover how to:\n",
    "- Calculate and normalize tf-idf scores for U.S. Inaugural Addresses with scikit-learn"
   ]
  },
  {
   "cell_type": "markdown",
   "metadata": {},
   "source": [
    "## Dataset"
   ]
  },
  {
   "cell_type": "markdown",
   "metadata": {},
   "source": [
    "### U.S. Inaugural Addresses\n",
    "\n",
    "<blockquote class=\"epigraph\" style=\" padding: 10px\">\n",
    "\n",
    "This is the meaning of our liberty and our creed; why men and women and children of every race and every faith can join in celebration across this magnificent Mall, and why a man whose father less than 60 years ago might not have been served at a local restaurant can now stand before you to take a most sacred oath.  So let us mark this day with remembrance of who we are and how far we have traveled.\n",
    "<p class =\"attribution\">—Barack Obama, Inaugural Presidential Address, January 2009\n",
    "    </p>\n",
    "    \n",
    "</blockquote>"
   ]
  },
  {
   "cell_type": "markdown",
   "metadata": {},
   "source": [
    "During Barack Obama's Inaugural Address in January 2009, he mentioned \"women\" four different times, including in the passage quoted above. How distinctive is Obama's inclusion of women in this address compared to all other U.S. Presidents? This is one of the questions that we're going to try to answer with tf-idf."
   ]
  },
  {
   "cell_type": "markdown",
   "metadata": {},
   "source": [
    "## Breaking Down the TF-IDF Formula"
   ]
  },
  {
   "cell_type": "markdown",
   "metadata": {},
   "source": [
    "But first, let's quickly discuss the tf-idf formula. The idea is pretty simple."
   ]
  },
  {
   "cell_type": "markdown",
   "metadata": {},
   "source": [
    "**tf-idf = term_frequency * inverse_document_frequency**"
   ]
  },
  {
   "cell_type": "markdown",
   "metadata": {},
   "source": [
    "**term_frequency** = number of times a given term appears in document"
   ]
  },
  {
   "cell_type": "markdown",
   "metadata": {},
   "source": [
    "**inverse_document_frequency** = log(total number of documents / number of documents with term) + 1**\\***"
   ]
  },
  {
   "cell_type": "markdown",
   "metadata": {},
   "source": [
    "You take the number of times a term occurs in a document (term frequency). Then you take the number of documents in which the same term occurs at least once divided by the total number of documents (document frequency), and you flip that fraction on its head (inverse document frequency). Then you multiply the two numbers together (term_frequency * inverse_document_frequency).\n",
    "\n",
    "The reason we take the *inverse*, or flipped fraction, of document frequency is to boost the rarer words that occur in relatively few documents. Think about the inverse document frequency for the word \"said\" vs the word \"pigeon.\" The term \"said\" appears in 13 (document frequency) of 14 (total documents) *Lost in the City* stories (14 / 13 --> a smaller inverse document frequency) while the term \"pigeons\" only occurs in 2 (document frequency) of the 14 stories (total documents) (14 / 2 --> a bigger inverse document frequency, a bigger tf-idf boost). "
   ]
  },
  {
   "cell_type": "markdown",
   "metadata": {},
   "source": [
    "*There are a bunch of slightly different ways that you can calculate inverse document frequency. The version of idf that we're going to use is the [scikit-learn default](https://scikit-learn.org/stable/modules/generated/sklearn.feature_extraction.text.TfidfTransformer.html#sklearn.feature_extraction.text.TfidfTransformer), which uses \"smoothing\" aka it adds a \"1\" to the numerator and denominator: "
   ]
  },
  {
   "cell_type": "markdown",
   "metadata": {},
   "source": [
    "**inverse_document_frequency**  = log((1 + total_number_of_documents) / (number_of_documents_with_term +1)) + 1"
   ]
  },
  {
   "cell_type": "markdown",
   "metadata": {},
   "source": [
    "<div class=\"margin sidebar\" style=\" padding: 10px\">\n",
    "\n",
    "> If smooth_idf=True (the default), the constant “1” is added to the numerator and denominator of the idf as if an extra document was seen containing every term in the collection exactly once, which prevents zero divisions: idf(t) = log [ (1 + n) / (1 + df(t)) ] + 1.  \n",
    "> -[scikit-learn documentation](https://scikit-learn.org/stable/modules/generated/sklearn.feature_extraction.text.TfidfTransformer.html#sklearn.feature_extraction.text.TfidfTransformer)\n",
    "\n",
    "</div>"
   ]
  },
  {
   "cell_type": "markdown",
   "metadata": {},
   "source": [
    "## TF-IDF with scikit-learn"
   ]
  },
  {
   "cell_type": "markdown",
   "metadata": {},
   "source": [
    "[scikit-learn](https://scikit-learn.org/stable/index.html), imported as `sklearn`, is a popular Python library for machine learning approaches such as clustering, classification, and regression. Though we're not doing any machine learning in this lesson, we're nevertheless going to use scikit-learn's `TfidfVectorizer` and `CountVectorizer`."
   ]
  },
  {
   "cell_type": "markdown",
   "metadata": {},
   "source": [
    "Install scikit-learn"
   ]
  },
  {
   "cell_type": "code",
   "execution_count": 1,
   "metadata": {},
   "outputs": [
    {
     "name": "stdout",
     "output_type": "stream",
     "text": [
      "Collecting sklearn\n",
      "  Downloading sklearn-0.0.post1.tar.gz (3.6 kB)\n",
      "Building wheels for collected packages: sklearn\n",
      "  Building wheel for sklearn (setup.py) ... \u001b[?25ldone\n",
      "\u001b[?25h  Created wheel for sklearn: filename=sklearn-0.0.post1-py3-none-any.whl size=2344 sha256=bcb5b28adb5f8d4f3e31c26dba69f14f7a30c1f5585d6b5403d5d826cd574072\n",
      "  Stored in directory: /Users/cblevins/Library/Caches/pip/wheels/f8/e0/3d/9d0c2020c44a519b9f02ab4fa6d2a4a996c98d79ab2f569fa1\n",
      "Successfully built sklearn\n",
      "Installing collected packages: sklearn\n",
      "Successfully installed sklearn-0.0.post1\n"
     ]
    }
   ],
   "source": [
    "!pip install sklearn"
   ]
  },
  {
   "cell_type": "markdown",
   "metadata": {},
   "source": [
    "Import necessary modules and libraries"
   ]
  },
  {
   "cell_type": "code",
   "execution_count": 1,
   "metadata": {},
   "outputs": [],
   "source": [
    "from sklearn.feature_extraction.text import TfidfVectorizer\n",
    "from sklearn.feature_extraction.text import CountVectorizer\n",
    "import pandas as pd\n",
    "pd.set_option(\"max_rows\", 600)\n",
    "from pathlib import Path  \n",
    "import glob"
   ]
  },
  {
   "cell_type": "markdown",
   "metadata": {},
   "source": [
    "<div class=\"admonition pandasreview\" name=\"html-admonition\" style=\"background: black; color: white; padding: 10px\">\n",
    "<p class=\"title\">Pandas</p>\n",
    " Do you need a refresher or introduction to the Python data analysis library Pandas? Be sure to check out <a href=\"https://melaniewalsh.github.io/Intro-Cultural-Analytics/Data-Analysis/Pandas-Basics-Part1.html\"> Pandas Basics (1-3) </a> in this textbook!\n",
    "    \n",
    "</div>"
   ]
  },
  {
   "cell_type": "markdown",
   "metadata": {},
   "source": [
    "We're also going to import `pandas` and change its default display setting. And we're going to import two libraries that will help us work with files and the file system: [`pathlib`](https://docs.python.org/3/library/pathlib.html##basic-use) and [`glob`](https://docs.python.org/3/library/glob.html)."
   ]
  },
  {
   "cell_type": "markdown",
   "metadata": {},
   "source": [
    "#### Set Directory Path"
   ]
  },
  {
   "cell_type": "markdown",
   "metadata": {},
   "source": [
    "Below we're setting the directory filepath that contains all the text files that we want to analyze."
   ]
  },
  {
   "cell_type": "code",
   "execution_count": 2,
   "metadata": {},
   "outputs": [],
   "source": [
    "directory_path = \"./elohp-interview-text/\""
   ]
  },
  {
   "cell_type": "markdown",
   "metadata": {},
   "source": [
    "Then we're going to use `glob` and `Path` to make a list of all the filepaths in that directory and a list of all the short story titles."
   ]
  },
  {
   "cell_type": "code",
   "execution_count": 3,
   "metadata": {},
   "outputs": [],
   "source": [
    "text_files = glob.glob(f\"{directory_path}/*.txt\")"
   ]
  },
  {
   "cell_type": "code",
   "execution_count": 4,
   "metadata": {
    "scrolled": true,
    "tags": [
     "output_scroll"
    ]
   },
   "outputs": [
    {
     "data": {
      "text/plain": [
       "['./elohp-interview-text/Coll520_do065_interviewtext.txt',\n",
       " './elohp-interview-text/Coll520_do003_interviewtext.txt',\n",
       " './elohp-interview-text/Coll520_do051_interviewtext.txt',\n",
       " './elohp-interview-text/Coll520_do060_interviewtext.txt',\n",
       " './elohp-interview-text/Coll520_do048_interviewtext.txt',\n",
       " './elohp-interview-text/Coll520_do006_interviewtext.txt',\n",
       " './elohp-interview-text/Coll520_do054_interviewtext.txt',\n",
       " './elohp-interview-text/Coll520_do032_interviewtext.txt',\n",
       " './elohp-interview-text/Coll520_do002_interviewtext.txt',\n",
       " './elohp-interview-text/Coll520_do036_interviewtext.txt',\n",
       " './elohp-interview-text/Coll520_do061_interviewtext.txt',\n",
       " './elohp-interview-text/Coll520_do007_interviewtext.txt',\n",
       " './elohp-interview-text/Coll520_do049_interviewtext.txt',\n",
       " './elohp-interview-text/Coll520_do055_interviewtext.txt',\n",
       " './elohp-interview-text/Coll520_do033_interviewtext.txt',\n",
       " './elohp-interview-text/Coll520_do029_interviewtext.txt',\n",
       " './elohp-interview-text/Coll520_do067_interviewtext.txt',\n",
       " './elohp-interview-text/Coll520_do001_interviewtext.txt',\n",
       " './elohp-interview-text/Coll520_do053_interviewtext.txt',\n",
       " './elohp-interview-text/Coll520_do035_interviewtext.txt',\n",
       " './elohp-interview-text/Coll520_do062_interviewtext.txt',\n",
       " './elohp-interview-text/Coll520_do004_interviewtext.txt',\n",
       " './elohp-interview-text/Coll520_do018_interviewtext.txt',\n",
       " './elohp-interview-text/Coll520_do056_interviewtext.txt',\n",
       " './elohp-interview-text/Coll520_do030_interviewtext.txt',\n",
       " './elohp-interview-text/Coll520_do066_interviewtext.txt',\n",
       " './elohp-interview-text/Coll520_do028_interviewtext.txt',\n",
       " './elohp-interview-text/Coll520_do052_interviewtext.txt',\n",
       " './elohp-interview-text/Coll520_do034_interviewtext.txt',\n",
       " './elohp-interview-text/Coll520_do063_interviewtext.txt',\n",
       " './elohp-interview-text/Coll520_do005_interviewtext.txt',\n",
       " './elohp-interview-text/Coll520_do057_interviewtext.txt',\n",
       " './elohp-interview-text/Coll520_do019_interviewtext.txt',\n",
       " './elohp-interview-text/Coll520_do031_interviewtext.txt',\n",
       " './elohp-interview-text/Coll520_do042_interviewtext.txt',\n",
       " './elohp-interview-text/Coll520_do024_interviewtext.txt',\n",
       " './elohp-interview-text/Coll520_do038_interviewtext.txt',\n",
       " './elohp-interview-text/Coll520_do010_interviewtext.txt',\n",
       " './elohp-interview-text/Coll520_do009_interviewtext.txt',\n",
       " './elohp-interview-text/Coll520_do047_interviewtext.txt',\n",
       " './elohp-interview-text/Coll520_do021_interviewtext.txt',\n",
       " './elohp-interview-text/Coll520_do073_interviewtext.txt',\n",
       " './elohp-interview-text/Coll520_do015_interviewtext.txt',\n",
       " './elohp-interview-text/Coll520_do043_interviewtext.txt',\n",
       " './elohp-interview-text/Coll520_do025_interviewtext.txt',\n",
       " './elohp-interview-text/Coll520_do039_interviewtext.txt',\n",
       " './elohp-interview-text/Coll520_do011_interviewtext.txt',\n",
       " './elohp-interview-text/Coll520_do046_interviewtext.txt',\n",
       " './elohp-interview-text/Coll520_do008_interviewtext.txt',\n",
       " './elohp-interview-text/Coll520_do020_interviewtext.txt',\n",
       " './elohp-interview-text/Coll520_do072_interviewtext.txt',\n",
       " './elohp-interview-text/Coll520_do014_interviewtext.txt',\n",
       " './elohp-interview-text/Coll520_do040_interviewtext.txt',\n",
       " './elohp-interview-text/Coll520_do068_interviewtext.txt',\n",
       " './elohp-interview-text/Coll520_do026_interviewtext.txt',\n",
       " './elohp-interview-text/Coll520_do074_interviewtext.txt',\n",
       " './elohp-interview-text/Coll520_do012_interviewtext.txt',\n",
       " './elohp-interview-text/Coll520_do045_interviewtext.txt',\n",
       " './elohp-interview-text/Coll520_do023_interviewtext.txt',\n",
       " './elohp-interview-text/Coll520_do071_interviewtext.txt',\n",
       " './elohp-interview-text/Coll520_do059_interviewtext.txt',\n",
       " './elohp-interview-text/Coll520_do017_interviewtext.txt',\n",
       " './elohp-interview-text/Coll520_do041_interviewtext.txt',\n",
       " './elohp-interview-text/Coll520_do027_interviewtext.txt',\n",
       " './elohp-interview-text/Coll520_do069_interviewtext.txt',\n",
       " './elohp-interview-text/Coll520_do013_interviewtext.txt',\n",
       " './elohp-interview-text/Coll520_do044_interviewtext.txt',\n",
       " './elohp-interview-text/Coll520_do022_interviewtext.txt',\n",
       " './elohp-interview-text/Coll520_do070_interviewtext.txt',\n",
       " './elohp-interview-text/Coll520_do016_interviewtext.txt',\n",
       " './elohp-interview-text/Coll520_do058_interviewtext.txt']"
      ]
     },
     "execution_count": 4,
     "metadata": {},
     "output_type": "execute_result"
    }
   ],
   "source": [
    "text_files"
   ]
  },
  {
   "cell_type": "code",
   "execution_count": 5,
   "metadata": {},
   "outputs": [],
   "source": [
    "text_titles = [Path(text).stem for text in text_files]"
   ]
  },
  {
   "cell_type": "code",
   "execution_count": 6,
   "metadata": {
    "scrolled": true,
    "tags": [
     "output_scroll"
    ]
   },
   "outputs": [
    {
     "data": {
      "text/plain": [
       "['Coll520_do065_interviewtext',\n",
       " 'Coll520_do003_interviewtext',\n",
       " 'Coll520_do051_interviewtext',\n",
       " 'Coll520_do060_interviewtext',\n",
       " 'Coll520_do048_interviewtext',\n",
       " 'Coll520_do006_interviewtext',\n",
       " 'Coll520_do054_interviewtext',\n",
       " 'Coll520_do032_interviewtext',\n",
       " 'Coll520_do002_interviewtext',\n",
       " 'Coll520_do036_interviewtext',\n",
       " 'Coll520_do061_interviewtext',\n",
       " 'Coll520_do007_interviewtext',\n",
       " 'Coll520_do049_interviewtext',\n",
       " 'Coll520_do055_interviewtext',\n",
       " 'Coll520_do033_interviewtext',\n",
       " 'Coll520_do029_interviewtext',\n",
       " 'Coll520_do067_interviewtext',\n",
       " 'Coll520_do001_interviewtext',\n",
       " 'Coll520_do053_interviewtext',\n",
       " 'Coll520_do035_interviewtext',\n",
       " 'Coll520_do062_interviewtext',\n",
       " 'Coll520_do004_interviewtext',\n",
       " 'Coll520_do018_interviewtext',\n",
       " 'Coll520_do056_interviewtext',\n",
       " 'Coll520_do030_interviewtext',\n",
       " 'Coll520_do066_interviewtext',\n",
       " 'Coll520_do028_interviewtext',\n",
       " 'Coll520_do052_interviewtext',\n",
       " 'Coll520_do034_interviewtext',\n",
       " 'Coll520_do063_interviewtext',\n",
       " 'Coll520_do005_interviewtext',\n",
       " 'Coll520_do057_interviewtext',\n",
       " 'Coll520_do019_interviewtext',\n",
       " 'Coll520_do031_interviewtext',\n",
       " 'Coll520_do042_interviewtext',\n",
       " 'Coll520_do024_interviewtext',\n",
       " 'Coll520_do038_interviewtext',\n",
       " 'Coll520_do010_interviewtext',\n",
       " 'Coll520_do009_interviewtext',\n",
       " 'Coll520_do047_interviewtext',\n",
       " 'Coll520_do021_interviewtext',\n",
       " 'Coll520_do073_interviewtext',\n",
       " 'Coll520_do015_interviewtext',\n",
       " 'Coll520_do043_interviewtext',\n",
       " 'Coll520_do025_interviewtext',\n",
       " 'Coll520_do039_interviewtext',\n",
       " 'Coll520_do011_interviewtext',\n",
       " 'Coll520_do046_interviewtext',\n",
       " 'Coll520_do008_interviewtext',\n",
       " 'Coll520_do020_interviewtext',\n",
       " 'Coll520_do072_interviewtext',\n",
       " 'Coll520_do014_interviewtext',\n",
       " 'Coll520_do040_interviewtext',\n",
       " 'Coll520_do068_interviewtext',\n",
       " 'Coll520_do026_interviewtext',\n",
       " 'Coll520_do074_interviewtext',\n",
       " 'Coll520_do012_interviewtext',\n",
       " 'Coll520_do045_interviewtext',\n",
       " 'Coll520_do023_interviewtext',\n",
       " 'Coll520_do071_interviewtext',\n",
       " 'Coll520_do059_interviewtext',\n",
       " 'Coll520_do017_interviewtext',\n",
       " 'Coll520_do041_interviewtext',\n",
       " 'Coll520_do027_interviewtext',\n",
       " 'Coll520_do069_interviewtext',\n",
       " 'Coll520_do013_interviewtext',\n",
       " 'Coll520_do044_interviewtext',\n",
       " 'Coll520_do022_interviewtext',\n",
       " 'Coll520_do070_interviewtext',\n",
       " 'Coll520_do016_interviewtext',\n",
       " 'Coll520_do058_interviewtext']"
      ]
     },
     "execution_count": 6,
     "metadata": {},
     "output_type": "execute_result"
    }
   ],
   "source": [
    "text_titles"
   ]
  },
  {
   "cell_type": "markdown",
   "metadata": {},
   "source": [
    "## Calculate tf–idf"
   ]
  },
  {
   "cell_type": "markdown",
   "metadata": {},
   "source": [
    "To calculate tf–idf scores for every word, we're going to use scikit-learn's [`TfidfVectorizer`](https://scikit-learn.org/stable/modules/generated/sklearn.feature_extraction.text.TfidfVectorizer.html).\n",
    "\n",
    "When you initialize TfidfVectorizer, you can choose to set it with different parameters. These parameters will change the way you calculate tf–idf."
   ]
  },
  {
   "cell_type": "markdown",
   "metadata": {},
   "source": [
    "The recommended way to run `TfidfVectorizer` is with smoothing (`smooth_idf = True`) and normalization (`norm='l2'`) turned on. These parameters will better account for differences in text length, and overall produce more meaningful tf–idf scores. Smoothing and L2 normalization are actually the default settings for `TfidfVectorizer`, so to turn them on, you don't need to include any extra code at all."
   ]
  },
  {
   "cell_type": "markdown",
   "metadata": {},
   "source": [
    "Initialize TfidfVectorizer with desired parameters (default smoothing and normalization)"
   ]
  },
  {
   "cell_type": "code",
   "execution_count": null,
   "metadata": {},
   "outputs": [],
   "source": []
  },
  {
   "cell_type": "code",
   "execution_count": 7,
   "metadata": {
    "scrolled": true
   },
   "outputs": [],
   "source": [
    "from nltk.corpus import stopwords\n",
    "stop = list(stopwords.words('english'))\n",
    "stop.extend('raiskin myword2 myword3'.split())\n",
    "vectorizer = TfidfVectorizer(analyzer = 'word',stop_words=set(stop))\n",
    "#vectors = vectorizer.fit_transform(corpus)"
   ]
  },
  {
   "cell_type": "code",
   "execution_count": 8,
   "metadata": {},
   "outputs": [],
   "source": [
    "#tfidf_vectorizer = TfidfVectorizer(input='filename', stop_words='english')\n",
    "tfidf_vectorizer = TfidfVectorizer(input='filename', stop_words=set(stop))"
   ]
  },
  {
   "cell_type": "markdown",
   "metadata": {},
   "source": [
    "Run TfidfVectorizer on our `text_files`"
   ]
  },
  {
   "cell_type": "code",
   "execution_count": 9,
   "metadata": {},
   "outputs": [],
   "source": [
    "tfidf_vector = tfidf_vectorizer.fit_transform(text_files)"
   ]
  },
  {
   "cell_type": "markdown",
   "metadata": {},
   "source": [
    "Make a DataFrame out of the resulting tf–idf vector, setting the \"feature names\" or words as columns and the titles as rows"
   ]
  },
  {
   "cell_type": "code",
   "execution_count": 10,
   "metadata": {},
   "outputs": [],
   "source": [
    "tfidf_df = pd.DataFrame(tfidf_vector.toarray(), index=text_titles, columns=tfidf_vectorizer.get_feature_names())"
   ]
  },
  {
   "cell_type": "markdown",
   "metadata": {},
   "source": [
    "Add column for document frequency aka number of times word appears in all documents"
   ]
  },
  {
   "cell_type": "code",
   "execution_count": 11,
   "metadata": {},
   "outputs": [],
   "source": [
    "tfidf_df.loc['00_Document Frequency'] = (tfidf_df > 0).sum()"
   ]
  },
  {
   "cell_type": "code",
   "execution_count": 12,
   "metadata": {},
   "outputs": [
    {
     "data": {
      "text/html": [
       "<div>\n",
       "<style scoped>\n",
       "    .dataframe tbody tr th:only-of-type {\n",
       "        vertical-align: middle;\n",
       "    }\n",
       "\n",
       "    .dataframe tbody tr th {\n",
       "        vertical-align: top;\n",
       "    }\n",
       "\n",
       "    .dataframe thead th {\n",
       "        text-align: right;\n",
       "    }\n",
       "</style>\n",
       "<table border=\"1\" class=\"dataframe\">\n",
       "  <thead>\n",
       "    <tr style=\"text-align: right;\">\n",
       "      <th></th>\n",
       "      <th>lesbian</th>\n",
       "      <th>gay</th>\n",
       "    </tr>\n",
       "  </thead>\n",
       "  <tbody>\n",
       "    <tr>\n",
       "      <th>00_Document Frequency</th>\n",
       "      <td>71.00</td>\n",
       "      <td>70.00</td>\n",
       "    </tr>\n",
       "    <tr>\n",
       "      <th>Coll520_do001_interviewtext</th>\n",
       "      <td>0.06</td>\n",
       "      <td>0.03</td>\n",
       "    </tr>\n",
       "    <tr>\n",
       "      <th>Coll520_do002_interviewtext</th>\n",
       "      <td>0.02</td>\n",
       "      <td>0.04</td>\n",
       "    </tr>\n",
       "    <tr>\n",
       "      <th>Coll520_do003_interviewtext</th>\n",
       "      <td>0.06</td>\n",
       "      <td>0.05</td>\n",
       "    </tr>\n",
       "    <tr>\n",
       "      <th>Coll520_do004_interviewtext</th>\n",
       "      <td>0.02</td>\n",
       "      <td>0.01</td>\n",
       "    </tr>\n",
       "    <tr>\n",
       "      <th>Coll520_do005_interviewtext</th>\n",
       "      <td>0.07</td>\n",
       "      <td>0.04</td>\n",
       "    </tr>\n",
       "    <tr>\n",
       "      <th>Coll520_do006_interviewtext</th>\n",
       "      <td>0.05</td>\n",
       "      <td>0.03</td>\n",
       "    </tr>\n",
       "    <tr>\n",
       "      <th>Coll520_do007_interviewtext</th>\n",
       "      <td>0.13</td>\n",
       "      <td>0.08</td>\n",
       "    </tr>\n",
       "    <tr>\n",
       "      <th>Coll520_do008_interviewtext</th>\n",
       "      <td>0.05</td>\n",
       "      <td>0.03</td>\n",
       "    </tr>\n",
       "    <tr>\n",
       "      <th>Coll520_do009_interviewtext</th>\n",
       "      <td>0.05</td>\n",
       "      <td>0.02</td>\n",
       "    </tr>\n",
       "    <tr>\n",
       "      <th>Coll520_do010_interviewtext</th>\n",
       "      <td>0.06</td>\n",
       "      <td>0.03</td>\n",
       "    </tr>\n",
       "    <tr>\n",
       "      <th>Coll520_do011_interviewtext</th>\n",
       "      <td>0.06</td>\n",
       "      <td>0.06</td>\n",
       "    </tr>\n",
       "    <tr>\n",
       "      <th>Coll520_do012_interviewtext</th>\n",
       "      <td>0.05</td>\n",
       "      <td>0.00</td>\n",
       "    </tr>\n",
       "    <tr>\n",
       "      <th>Coll520_do013_interviewtext</th>\n",
       "      <td>0.15</td>\n",
       "      <td>0.12</td>\n",
       "    </tr>\n",
       "    <tr>\n",
       "      <th>Coll520_do014_interviewtext</th>\n",
       "      <td>0.08</td>\n",
       "      <td>0.02</td>\n",
       "    </tr>\n",
       "    <tr>\n",
       "      <th>Coll520_do015_interviewtext</th>\n",
       "      <td>0.05</td>\n",
       "      <td>0.04</td>\n",
       "    </tr>\n",
       "    <tr>\n",
       "      <th>Coll520_do016_interviewtext</th>\n",
       "      <td>0.04</td>\n",
       "      <td>0.02</td>\n",
       "    </tr>\n",
       "    <tr>\n",
       "      <th>Coll520_do017_interviewtext</th>\n",
       "      <td>0.05</td>\n",
       "      <td>0.01</td>\n",
       "    </tr>\n",
       "    <tr>\n",
       "      <th>Coll520_do018_interviewtext</th>\n",
       "      <td>0.09</td>\n",
       "      <td>0.03</td>\n",
       "    </tr>\n",
       "    <tr>\n",
       "      <th>Coll520_do019_interviewtext</th>\n",
       "      <td>0.09</td>\n",
       "      <td>0.05</td>\n",
       "    </tr>\n",
       "    <tr>\n",
       "      <th>Coll520_do020_interviewtext</th>\n",
       "      <td>0.04</td>\n",
       "      <td>0.02</td>\n",
       "    </tr>\n",
       "    <tr>\n",
       "      <th>Coll520_do021_interviewtext</th>\n",
       "      <td>0.05</td>\n",
       "      <td>0.03</td>\n",
       "    </tr>\n",
       "    <tr>\n",
       "      <th>Coll520_do022_interviewtext</th>\n",
       "      <td>0.06</td>\n",
       "      <td>0.04</td>\n",
       "    </tr>\n",
       "    <tr>\n",
       "      <th>Coll520_do023_interviewtext</th>\n",
       "      <td>0.04</td>\n",
       "      <td>0.01</td>\n",
       "    </tr>\n",
       "    <tr>\n",
       "      <th>Coll520_do024_interviewtext</th>\n",
       "      <td>0.06</td>\n",
       "      <td>0.00</td>\n",
       "    </tr>\n",
       "    <tr>\n",
       "      <th>Coll520_do025_interviewtext</th>\n",
       "      <td>0.06</td>\n",
       "      <td>0.02</td>\n",
       "    </tr>\n",
       "    <tr>\n",
       "      <th>Coll520_do026_interviewtext</th>\n",
       "      <td>0.08</td>\n",
       "      <td>0.04</td>\n",
       "    </tr>\n",
       "    <tr>\n",
       "      <th>Coll520_do027_interviewtext</th>\n",
       "      <td>0.05</td>\n",
       "      <td>0.02</td>\n",
       "    </tr>\n",
       "    <tr>\n",
       "      <th>Coll520_do028_interviewtext</th>\n",
       "      <td>0.06</td>\n",
       "      <td>0.01</td>\n",
       "    </tr>\n",
       "    <tr>\n",
       "      <th>Coll520_do029_interviewtext</th>\n",
       "      <td>0.08</td>\n",
       "      <td>0.03</td>\n",
       "    </tr>\n",
       "    <tr>\n",
       "      <th>Coll520_do030_interviewtext</th>\n",
       "      <td>0.11</td>\n",
       "      <td>0.07</td>\n",
       "    </tr>\n",
       "    <tr>\n",
       "      <th>Coll520_do031_interviewtext</th>\n",
       "      <td>0.04</td>\n",
       "      <td>0.02</td>\n",
       "    </tr>\n",
       "    <tr>\n",
       "      <th>Coll520_do032_interviewtext</th>\n",
       "      <td>0.02</td>\n",
       "      <td>0.01</td>\n",
       "    </tr>\n",
       "    <tr>\n",
       "      <th>Coll520_do033_interviewtext</th>\n",
       "      <td>0.05</td>\n",
       "      <td>0.01</td>\n",
       "    </tr>\n",
       "    <tr>\n",
       "      <th>Coll520_do034_interviewtext</th>\n",
       "      <td>0.02</td>\n",
       "      <td>0.06</td>\n",
       "    </tr>\n",
       "    <tr>\n",
       "      <th>Coll520_do035_interviewtext</th>\n",
       "      <td>0.05</td>\n",
       "      <td>0.05</td>\n",
       "    </tr>\n",
       "    <tr>\n",
       "      <th>Coll520_do036_interviewtext</th>\n",
       "      <td>0.02</td>\n",
       "      <td>0.01</td>\n",
       "    </tr>\n",
       "    <tr>\n",
       "      <th>Coll520_do038_interviewtext</th>\n",
       "      <td>0.06</td>\n",
       "      <td>0.03</td>\n",
       "    </tr>\n",
       "    <tr>\n",
       "      <th>Coll520_do039_interviewtext</th>\n",
       "      <td>0.02</td>\n",
       "      <td>0.00</td>\n",
       "    </tr>\n",
       "    <tr>\n",
       "      <th>Coll520_do040_interviewtext</th>\n",
       "      <td>0.01</td>\n",
       "      <td>0.02</td>\n",
       "    </tr>\n",
       "    <tr>\n",
       "      <th>Coll520_do041_interviewtext</th>\n",
       "      <td>0.03</td>\n",
       "      <td>0.03</td>\n",
       "    </tr>\n",
       "    <tr>\n",
       "      <th>Coll520_do042_interviewtext</th>\n",
       "      <td>0.04</td>\n",
       "      <td>0.01</td>\n",
       "    </tr>\n",
       "    <tr>\n",
       "      <th>Coll520_do043_interviewtext</th>\n",
       "      <td>0.02</td>\n",
       "      <td>0.01</td>\n",
       "    </tr>\n",
       "    <tr>\n",
       "      <th>Coll520_do044_interviewtext</th>\n",
       "      <td>0.09</td>\n",
       "      <td>0.09</td>\n",
       "    </tr>\n",
       "    <tr>\n",
       "      <th>Coll520_do045_interviewtext</th>\n",
       "      <td>0.05</td>\n",
       "      <td>0.10</td>\n",
       "    </tr>\n",
       "    <tr>\n",
       "      <th>Coll520_do046_interviewtext</th>\n",
       "      <td>0.07</td>\n",
       "      <td>0.02</td>\n",
       "    </tr>\n",
       "    <tr>\n",
       "      <th>Coll520_do047_interviewtext</th>\n",
       "      <td>0.03</td>\n",
       "      <td>0.02</td>\n",
       "    </tr>\n",
       "    <tr>\n",
       "      <th>Coll520_do048_interviewtext</th>\n",
       "      <td>0.07</td>\n",
       "      <td>0.06</td>\n",
       "    </tr>\n",
       "    <tr>\n",
       "      <th>Coll520_do049_interviewtext</th>\n",
       "      <td>0.05</td>\n",
       "      <td>0.01</td>\n",
       "    </tr>\n",
       "    <tr>\n",
       "      <th>Coll520_do051_interviewtext</th>\n",
       "      <td>0.15</td>\n",
       "      <td>0.08</td>\n",
       "    </tr>\n",
       "    <tr>\n",
       "      <th>Coll520_do052_interviewtext</th>\n",
       "      <td>0.07</td>\n",
       "      <td>0.06</td>\n",
       "    </tr>\n",
       "    <tr>\n",
       "      <th>Coll520_do053_interviewtext</th>\n",
       "      <td>0.07</td>\n",
       "      <td>0.01</td>\n",
       "    </tr>\n",
       "    <tr>\n",
       "      <th>Coll520_do054_interviewtext</th>\n",
       "      <td>0.11</td>\n",
       "      <td>0.03</td>\n",
       "    </tr>\n",
       "    <tr>\n",
       "      <th>Coll520_do055_interviewtext</th>\n",
       "      <td>0.06</td>\n",
       "      <td>0.03</td>\n",
       "    </tr>\n",
       "    <tr>\n",
       "      <th>Coll520_do056_interviewtext</th>\n",
       "      <td>0.07</td>\n",
       "      <td>0.03</td>\n",
       "    </tr>\n",
       "    <tr>\n",
       "      <th>Coll520_do057_interviewtext</th>\n",
       "      <td>0.04</td>\n",
       "      <td>0.02</td>\n",
       "    </tr>\n",
       "    <tr>\n",
       "      <th>Coll520_do058_interviewtext</th>\n",
       "      <td>0.02</td>\n",
       "      <td>0.03</td>\n",
       "    </tr>\n",
       "    <tr>\n",
       "      <th>Coll520_do059_interviewtext</th>\n",
       "      <td>0.01</td>\n",
       "      <td>0.01</td>\n",
       "    </tr>\n",
       "    <tr>\n",
       "      <th>Coll520_do060_interviewtext</th>\n",
       "      <td>0.02</td>\n",
       "      <td>0.01</td>\n",
       "    </tr>\n",
       "    <tr>\n",
       "      <th>Coll520_do061_interviewtext</th>\n",
       "      <td>0.06</td>\n",
       "      <td>0.04</td>\n",
       "    </tr>\n",
       "    <tr>\n",
       "      <th>Coll520_do062_interviewtext</th>\n",
       "      <td>0.05</td>\n",
       "      <td>0.03</td>\n",
       "    </tr>\n",
       "    <tr>\n",
       "      <th>Coll520_do063_interviewtext</th>\n",
       "      <td>0.09</td>\n",
       "      <td>0.01</td>\n",
       "    </tr>\n",
       "    <tr>\n",
       "      <th>Coll520_do065_interviewtext</th>\n",
       "      <td>0.10</td>\n",
       "      <td>0.02</td>\n",
       "    </tr>\n",
       "    <tr>\n",
       "      <th>Coll520_do066_interviewtext</th>\n",
       "      <td>0.04</td>\n",
       "      <td>0.03</td>\n",
       "    </tr>\n",
       "    <tr>\n",
       "      <th>Coll520_do067_interviewtext</th>\n",
       "      <td>0.03</td>\n",
       "      <td>0.00</td>\n",
       "    </tr>\n",
       "    <tr>\n",
       "      <th>Coll520_do068_interviewtext</th>\n",
       "      <td>0.09</td>\n",
       "      <td>0.05</td>\n",
       "    </tr>\n",
       "    <tr>\n",
       "      <th>Coll520_do069_interviewtext</th>\n",
       "      <td>0.04</td>\n",
       "      <td>0.01</td>\n",
       "    </tr>\n",
       "    <tr>\n",
       "      <th>Coll520_do070_interviewtext</th>\n",
       "      <td>0.07</td>\n",
       "      <td>0.01</td>\n",
       "    </tr>\n",
       "    <tr>\n",
       "      <th>Coll520_do071_interviewtext</th>\n",
       "      <td>0.07</td>\n",
       "      <td>0.02</td>\n",
       "    </tr>\n",
       "    <tr>\n",
       "      <th>Coll520_do072_interviewtext</th>\n",
       "      <td>0.09</td>\n",
       "      <td>0.10</td>\n",
       "    </tr>\n",
       "    <tr>\n",
       "      <th>Coll520_do073_interviewtext</th>\n",
       "      <td>0.03</td>\n",
       "      <td>0.01</td>\n",
       "    </tr>\n",
       "    <tr>\n",
       "      <th>Coll520_do074_interviewtext</th>\n",
       "      <td>0.10</td>\n",
       "      <td>0.01</td>\n",
       "    </tr>\n",
       "  </tbody>\n",
       "</table>\n",
       "</div>"
      ],
      "text/plain": [
       "                             lesbian    gay\n",
       "00_Document Frequency          71.00  70.00\n",
       "Coll520_do001_interviewtext     0.06   0.03\n",
       "Coll520_do002_interviewtext     0.02   0.04\n",
       "Coll520_do003_interviewtext     0.06   0.05\n",
       "Coll520_do004_interviewtext     0.02   0.01\n",
       "Coll520_do005_interviewtext     0.07   0.04\n",
       "Coll520_do006_interviewtext     0.05   0.03\n",
       "Coll520_do007_interviewtext     0.13   0.08\n",
       "Coll520_do008_interviewtext     0.05   0.03\n",
       "Coll520_do009_interviewtext     0.05   0.02\n",
       "Coll520_do010_interviewtext     0.06   0.03\n",
       "Coll520_do011_interviewtext     0.06   0.06\n",
       "Coll520_do012_interviewtext     0.05   0.00\n",
       "Coll520_do013_interviewtext     0.15   0.12\n",
       "Coll520_do014_interviewtext     0.08   0.02\n",
       "Coll520_do015_interviewtext     0.05   0.04\n",
       "Coll520_do016_interviewtext     0.04   0.02\n",
       "Coll520_do017_interviewtext     0.05   0.01\n",
       "Coll520_do018_interviewtext     0.09   0.03\n",
       "Coll520_do019_interviewtext     0.09   0.05\n",
       "Coll520_do020_interviewtext     0.04   0.02\n",
       "Coll520_do021_interviewtext     0.05   0.03\n",
       "Coll520_do022_interviewtext     0.06   0.04\n",
       "Coll520_do023_interviewtext     0.04   0.01\n",
       "Coll520_do024_interviewtext     0.06   0.00\n",
       "Coll520_do025_interviewtext     0.06   0.02\n",
       "Coll520_do026_interviewtext     0.08   0.04\n",
       "Coll520_do027_interviewtext     0.05   0.02\n",
       "Coll520_do028_interviewtext     0.06   0.01\n",
       "Coll520_do029_interviewtext     0.08   0.03\n",
       "Coll520_do030_interviewtext     0.11   0.07\n",
       "Coll520_do031_interviewtext     0.04   0.02\n",
       "Coll520_do032_interviewtext     0.02   0.01\n",
       "Coll520_do033_interviewtext     0.05   0.01\n",
       "Coll520_do034_interviewtext     0.02   0.06\n",
       "Coll520_do035_interviewtext     0.05   0.05\n",
       "Coll520_do036_interviewtext     0.02   0.01\n",
       "Coll520_do038_interviewtext     0.06   0.03\n",
       "Coll520_do039_interviewtext     0.02   0.00\n",
       "Coll520_do040_interviewtext     0.01   0.02\n",
       "Coll520_do041_interviewtext     0.03   0.03\n",
       "Coll520_do042_interviewtext     0.04   0.01\n",
       "Coll520_do043_interviewtext     0.02   0.01\n",
       "Coll520_do044_interviewtext     0.09   0.09\n",
       "Coll520_do045_interviewtext     0.05   0.10\n",
       "Coll520_do046_interviewtext     0.07   0.02\n",
       "Coll520_do047_interviewtext     0.03   0.02\n",
       "Coll520_do048_interviewtext     0.07   0.06\n",
       "Coll520_do049_interviewtext     0.05   0.01\n",
       "Coll520_do051_interviewtext     0.15   0.08\n",
       "Coll520_do052_interviewtext     0.07   0.06\n",
       "Coll520_do053_interviewtext     0.07   0.01\n",
       "Coll520_do054_interviewtext     0.11   0.03\n",
       "Coll520_do055_interviewtext     0.06   0.03\n",
       "Coll520_do056_interviewtext     0.07   0.03\n",
       "Coll520_do057_interviewtext     0.04   0.02\n",
       "Coll520_do058_interviewtext     0.02   0.03\n",
       "Coll520_do059_interviewtext     0.01   0.01\n",
       "Coll520_do060_interviewtext     0.02   0.01\n",
       "Coll520_do061_interviewtext     0.06   0.04\n",
       "Coll520_do062_interviewtext     0.05   0.03\n",
       "Coll520_do063_interviewtext     0.09   0.01\n",
       "Coll520_do065_interviewtext     0.10   0.02\n",
       "Coll520_do066_interviewtext     0.04   0.03\n",
       "Coll520_do067_interviewtext     0.03   0.00\n",
       "Coll520_do068_interviewtext     0.09   0.05\n",
       "Coll520_do069_interviewtext     0.04   0.01\n",
       "Coll520_do070_interviewtext     0.07   0.01\n",
       "Coll520_do071_interviewtext     0.07   0.02\n",
       "Coll520_do072_interviewtext     0.09   0.10\n",
       "Coll520_do073_interviewtext     0.03   0.01\n",
       "Coll520_do074_interviewtext     0.10   0.01"
      ]
     },
     "execution_count": 12,
     "metadata": {},
     "output_type": "execute_result"
    }
   ],
   "source": [
    "tfidf_slice = tfidf_df[['lesbian', 'gay']]\n",
    "tfidf_slice.sort_index().round(decimals=2)"
   ]
  },
  {
   "cell_type": "markdown",
   "metadata": {},
   "source": [
    "Let's drop \"OO_Document Frequency\" since we were just using it for illustration purposes."
   ]
  },
  {
   "cell_type": "code",
   "execution_count": 13,
   "metadata": {
    "scrolled": true
   },
   "outputs": [],
   "source": [
    "tfidf_df = tfidf_df.drop('00_Document Frequency', errors='ignore')"
   ]
  },
  {
   "cell_type": "markdown",
   "metadata": {},
   "source": [
    "Let's reorganize the DataFrame so that the words are in rows rather than columns."
   ]
  },
  {
   "cell_type": "code",
   "execution_count": 14,
   "metadata": {},
   "outputs": [
    {
     "data": {
      "text/html": [
       "<div>\n",
       "<style scoped>\n",
       "    .dataframe tbody tr th:only-of-type {\n",
       "        vertical-align: middle;\n",
       "    }\n",
       "\n",
       "    .dataframe tbody tr th {\n",
       "        vertical-align: top;\n",
       "    }\n",
       "\n",
       "    .dataframe thead th {\n",
       "        text-align: right;\n",
       "    }\n",
       "</style>\n",
       "<table border=\"1\" class=\"dataframe\">\n",
       "  <thead>\n",
       "    <tr style=\"text-align: right;\">\n",
       "      <th></th>\n",
       "      <th>level_0</th>\n",
       "      <th>level_1</th>\n",
       "      <th>0</th>\n",
       "    </tr>\n",
       "  </thead>\n",
       "  <tbody>\n",
       "    <tr>\n",
       "      <th>0</th>\n",
       "      <td>Coll520_do065_interviewtext</td>\n",
       "      <td>00</td>\n",
       "      <td>0.000000</td>\n",
       "    </tr>\n",
       "    <tr>\n",
       "      <th>1</th>\n",
       "      <td>Coll520_do065_interviewtext</td>\n",
       "      <td>000</td>\n",
       "      <td>0.003431</td>\n",
       "    </tr>\n",
       "    <tr>\n",
       "      <th>2</th>\n",
       "      <td>Coll520_do065_interviewtext</td>\n",
       "      <td>00am</td>\n",
       "      <td>0.000000</td>\n",
       "    </tr>\n",
       "    <tr>\n",
       "      <th>3</th>\n",
       "      <td>Coll520_do065_interviewtext</td>\n",
       "      <td>00pm</td>\n",
       "      <td>0.000000</td>\n",
       "    </tr>\n",
       "    <tr>\n",
       "      <th>4</th>\n",
       "      <td>Coll520_do065_interviewtext</td>\n",
       "      <td>00s</td>\n",
       "      <td>0.000000</td>\n",
       "    </tr>\n",
       "    <tr>\n",
       "      <th>...</th>\n",
       "      <td>...</td>\n",
       "      <td>...</td>\n",
       "      <td>...</td>\n",
       "    </tr>\n",
       "    <tr>\n",
       "      <th>1264931</th>\n",
       "      <td>Coll520_do058_interviewtext</td>\n",
       "      <td>zoomed</td>\n",
       "      <td>0.000000</td>\n",
       "    </tr>\n",
       "    <tr>\n",
       "      <th>1264932</th>\n",
       "      <td>Coll520_do058_interviewtext</td>\n",
       "      <td>zukowski</td>\n",
       "      <td>0.000000</td>\n",
       "    </tr>\n",
       "    <tr>\n",
       "      <th>1264933</th>\n",
       "      <td>Coll520_do058_interviewtext</td>\n",
       "      <td>zumba</td>\n",
       "      <td>0.000000</td>\n",
       "    </tr>\n",
       "    <tr>\n",
       "      <th>1264934</th>\n",
       "      <td>Coll520_do058_interviewtext</td>\n",
       "      <td>zweig</td>\n",
       "      <td>0.000000</td>\n",
       "    </tr>\n",
       "    <tr>\n",
       "      <th>1264935</th>\n",
       "      <td>Coll520_do058_interviewtext</td>\n",
       "      <td>zygote</td>\n",
       "      <td>0.000000</td>\n",
       "    </tr>\n",
       "  </tbody>\n",
       "</table>\n",
       "<p>1264936 rows × 3 columns</p>\n",
       "</div>"
      ],
      "text/plain": [
       "                             level_0   level_1         0\n",
       "0        Coll520_do065_interviewtext        00  0.000000\n",
       "1        Coll520_do065_interviewtext       000  0.003431\n",
       "2        Coll520_do065_interviewtext      00am  0.000000\n",
       "3        Coll520_do065_interviewtext      00pm  0.000000\n",
       "4        Coll520_do065_interviewtext       00s  0.000000\n",
       "...                              ...       ...       ...\n",
       "1264931  Coll520_do058_interviewtext    zoomed  0.000000\n",
       "1264932  Coll520_do058_interviewtext  zukowski  0.000000\n",
       "1264933  Coll520_do058_interviewtext     zumba  0.000000\n",
       "1264934  Coll520_do058_interviewtext     zweig  0.000000\n",
       "1264935  Coll520_do058_interviewtext    zygote  0.000000\n",
       "\n",
       "[1264936 rows x 3 columns]"
      ]
     },
     "execution_count": 14,
     "metadata": {},
     "output_type": "execute_result"
    }
   ],
   "source": [
    "tfidf_df.stack().reset_index()"
   ]
  },
  {
   "cell_type": "code",
   "execution_count": 15,
   "metadata": {},
   "outputs": [],
   "source": [
    "tfidf_df = tfidf_df.stack().reset_index()"
   ]
  },
  {
   "cell_type": "code",
   "execution_count": 16,
   "metadata": {},
   "outputs": [],
   "source": [
    "tfidf_df = tfidf_df.rename(columns={0:'tfidf', 'level_0': 'document','level_1': 'term', 'level_2': 'term'})"
   ]
  },
  {
   "cell_type": "markdown",
   "metadata": {},
   "source": [
    "To find out the top 10 words with the highest tf–idf for every story, we're going to sort by document and tfidf score and then groupby document and take the first 10 values."
   ]
  },
  {
   "cell_type": "code",
   "execution_count": 17,
   "metadata": {
    "scrolled": true,
    "tags": [
     "output_scroll"
    ]
   },
   "outputs": [
    {
     "data": {
      "text/html": [
       "<div>\n",
       "<style scoped>\n",
       "    .dataframe tbody tr th:only-of-type {\n",
       "        vertical-align: middle;\n",
       "    }\n",
       "\n",
       "    .dataframe tbody tr th {\n",
       "        vertical-align: top;\n",
       "    }\n",
       "\n",
       "    .dataframe thead th {\n",
       "        text-align: right;\n",
       "    }\n",
       "</style>\n",
       "<table border=\"1\" class=\"dataframe\">\n",
       "  <thead>\n",
       "    <tr style=\"text-align: right;\">\n",
       "      <th></th>\n",
       "      <th>document</th>\n",
       "      <th>term</th>\n",
       "      <th>tfidf</th>\n",
       "    </tr>\n",
       "  </thead>\n",
       "  <tbody>\n",
       "    <tr>\n",
       "      <th>303463</th>\n",
       "      <td>Coll520_do001_interviewtext</td>\n",
       "      <td>agapito</td>\n",
       "      <td>0.610865</td>\n",
       "    </tr>\n",
       "    <tr>\n",
       "      <th>320455</th>\n",
       "      <td>Coll520_do001_interviewtext</td>\n",
       "      <td>womanshare</td>\n",
       "      <td>0.169570</td>\n",
       "    </tr>\n",
       "    <tr>\n",
       "      <th>315874</th>\n",
       "      <td>Coll520_do001_interviewtext</td>\n",
       "      <td>really</td>\n",
       "      <td>0.142410</td>\n",
       "    </tr>\n",
       "    <tr>\n",
       "      <th>320529</th>\n",
       "      <td>Coll520_do001_interviewtext</td>\n",
       "      <td>would</td>\n",
       "      <td>0.138613</td>\n",
       "    </tr>\n",
       "    <tr>\n",
       "      <th>316153</th>\n",
       "      <td>Coll520_do001_interviewtext</td>\n",
       "      <td>remember</td>\n",
       "      <td>0.131018</td>\n",
       "    </tr>\n",
       "    <tr>\n",
       "      <th>...</th>\n",
       "      <td>...</td>\n",
       "      <td>...</td>\n",
       "      <td>...</td>\n",
       "    </tr>\n",
       "    <tr>\n",
       "      <th>989137</th>\n",
       "      <td>Coll520_do074_interviewtext</td>\n",
       "      <td>lesbian</td>\n",
       "      <td>0.095365</td>\n",
       "    </tr>\n",
       "    <tr>\n",
       "      <th>986504</th>\n",
       "      <td>Coll520_do074_interviewtext</td>\n",
       "      <td>fun</td>\n",
       "      <td>0.082813</td>\n",
       "    </tr>\n",
       "    <tr>\n",
       "      <th>986822</th>\n",
       "      <td>Coll520_do074_interviewtext</td>\n",
       "      <td>going</td>\n",
       "      <td>0.078336</td>\n",
       "    </tr>\n",
       "    <tr>\n",
       "      <th>988784</th>\n",
       "      <td>Coll520_do074_interviewtext</td>\n",
       "      <td>kind</td>\n",
       "      <td>0.078336</td>\n",
       "    </tr>\n",
       "    <tr>\n",
       "      <th>996074</th>\n",
       "      <td>Coll520_do074_interviewtext</td>\n",
       "      <td>time</td>\n",
       "      <td>0.078336</td>\n",
       "    </tr>\n",
       "  </tbody>\n",
       "</table>\n",
       "<p>710 rows × 3 columns</p>\n",
       "</div>"
      ],
      "text/plain": [
       "                           document        term     tfidf\n",
       "303463  Coll520_do001_interviewtext     agapito  0.610865\n",
       "320455  Coll520_do001_interviewtext  womanshare  0.169570\n",
       "315874  Coll520_do001_interviewtext      really  0.142410\n",
       "320529  Coll520_do001_interviewtext       would  0.138613\n",
       "316153  Coll520_do001_interviewtext    remember  0.131018\n",
       "...                             ...         ...       ...\n",
       "989137  Coll520_do074_interviewtext     lesbian  0.095365\n",
       "986504  Coll520_do074_interviewtext         fun  0.082813\n",
       "986822  Coll520_do074_interviewtext       going  0.078336\n",
       "988784  Coll520_do074_interviewtext        kind  0.078336\n",
       "996074  Coll520_do074_interviewtext        time  0.078336\n",
       "\n",
       "[710 rows x 3 columns]"
      ]
     },
     "execution_count": 17,
     "metadata": {},
     "output_type": "execute_result"
    }
   ],
   "source": [
    "tfidf_df.sort_values(by=['document','tfidf'], ascending=[True,False]).groupby(['document']).head(10)"
   ]
  },
  {
   "cell_type": "code",
   "execution_count": 18,
   "metadata": {},
   "outputs": [],
   "source": [
    "top_tfidf = tfidf_df.sort_values(by=['document','tfidf'], ascending=[True,False]).groupby(['document']).head(10)"
   ]
  },
  {
   "cell_type": "markdown",
   "metadata": {},
   "source": [
    "We can zoom in on particular words and particular documents."
   ]
  },
  {
   "cell_type": "code",
   "execution_count": 19,
   "metadata": {},
   "outputs": [
    {
     "data": {
      "text/html": [
       "<div>\n",
       "<style scoped>\n",
       "    .dataframe tbody tr th:only-of-type {\n",
       "        vertical-align: middle;\n",
       "    }\n",
       "\n",
       "    .dataframe tbody tr th {\n",
       "        vertical-align: top;\n",
       "    }\n",
       "\n",
       "    .dataframe thead th {\n",
       "        text-align: right;\n",
       "    }\n",
       "</style>\n",
       "<table border=\"1\" class=\"dataframe\">\n",
       "  <thead>\n",
       "    <tr style=\"text-align: right;\">\n",
       "      <th></th>\n",
       "      <th>document</th>\n",
       "      <th>term</th>\n",
       "      <th>tfidf</th>\n",
       "    </tr>\n",
       "  </thead>\n",
       "  <tbody>\n",
       "    <tr>\n",
       "      <th>320459</th>\n",
       "      <td>Coll520_do001_interviewtext</td>\n",
       "      <td>women</td>\n",
       "      <td>0.125321</td>\n",
       "    </tr>\n",
       "    <tr>\n",
       "      <th>35403</th>\n",
       "      <td>Coll520_do003_interviewtext</td>\n",
       "      <td>women</td>\n",
       "      <td>0.089180</td>\n",
       "    </tr>\n",
       "    <tr>\n",
       "      <th>391723</th>\n",
       "      <td>Coll520_do004_interviewtext</td>\n",
       "      <td>women</td>\n",
       "      <td>0.080173</td>\n",
       "    </tr>\n",
       "    <tr>\n",
       "      <th>552068</th>\n",
       "      <td>Coll520_do005_interviewtext</td>\n",
       "      <td>womenspace</td>\n",
       "      <td>0.098685</td>\n",
       "    </tr>\n",
       "    <tr>\n",
       "      <th>872755</th>\n",
       "      <td>Coll520_do008_interviewtext</td>\n",
       "      <td>women</td>\n",
       "      <td>0.188202</td>\n",
       "    </tr>\n",
       "    <tr>\n",
       "      <th>765859</th>\n",
       "      <td>Coll520_do015_interviewtext</td>\n",
       "      <td>women</td>\n",
       "      <td>0.073654</td>\n",
       "    </tr>\n",
       "    <tr>\n",
       "      <th>1246891</th>\n",
       "      <td>Coll520_do016_interviewtext</td>\n",
       "      <td>women</td>\n",
       "      <td>0.116463</td>\n",
       "    </tr>\n",
       "    <tr>\n",
       "      <th>409539</th>\n",
       "      <td>Coll520_do018_interviewtext</td>\n",
       "      <td>women</td>\n",
       "      <td>0.079317</td>\n",
       "    </tr>\n",
       "    <tr>\n",
       "      <th>890571</th>\n",
       "      <td>Coll520_do020_interviewtext</td>\n",
       "      <td>women</td>\n",
       "      <td>0.081946</td>\n",
       "    </tr>\n",
       "    <tr>\n",
       "      <th>730227</th>\n",
       "      <td>Coll520_do021_interviewtext</td>\n",
       "      <td>women</td>\n",
       "      <td>0.131960</td>\n",
       "    </tr>\n",
       "    <tr>\n",
       "      <th>1211259</th>\n",
       "      <td>Coll520_do022_interviewtext</td>\n",
       "      <td>women</td>\n",
       "      <td>0.125993</td>\n",
       "    </tr>\n",
       "    <tr>\n",
       "      <th>641147</th>\n",
       "      <td>Coll520_do024_interviewtext</td>\n",
       "      <td>women</td>\n",
       "      <td>0.173915</td>\n",
       "    </tr>\n",
       "    <tr>\n",
       "      <th>979651</th>\n",
       "      <td>Coll520_do026_interviewtext</td>\n",
       "      <td>women</td>\n",
       "      <td>0.071583</td>\n",
       "    </tr>\n",
       "    <tr>\n",
       "      <th>480803</th>\n",
       "      <td>Coll520_do028_interviewtext</td>\n",
       "      <td>women</td>\n",
       "      <td>0.200908</td>\n",
       "    </tr>\n",
       "    <tr>\n",
       "      <th>658963</th>\n",
       "      <td>Coll520_do038_interviewtext</td>\n",
       "      <td>women</td>\n",
       "      <td>0.131034</td>\n",
       "    </tr>\n",
       "    <tr>\n",
       "      <th>1122179</th>\n",
       "      <td>Coll520_do041_interviewtext</td>\n",
       "      <td>women</td>\n",
       "      <td>0.096707</td>\n",
       "    </tr>\n",
       "    <tr>\n",
       "      <th>231379</th>\n",
       "      <td>Coll520_do049_interviewtext</td>\n",
       "      <td>women</td>\n",
       "      <td>0.183101</td>\n",
       "    </tr>\n",
       "    <tr>\n",
       "      <th>53219</th>\n",
       "      <td>Coll520_do051_interviewtext</td>\n",
       "      <td>women</td>\n",
       "      <td>0.185173</td>\n",
       "    </tr>\n",
       "    <tr>\n",
       "      <th>498619</th>\n",
       "      <td>Coll520_do052_interviewtext</td>\n",
       "      <td>women</td>\n",
       "      <td>0.128169</td>\n",
       "    </tr>\n",
       "    <tr>\n",
       "      <th>71035</th>\n",
       "      <td>Coll520_do060_interviewtext</td>\n",
       "      <td>women</td>\n",
       "      <td>0.067891</td>\n",
       "    </tr>\n",
       "    <tr>\n",
       "      <th>534251</th>\n",
       "      <td>Coll520_do063_interviewtext</td>\n",
       "      <td>women</td>\n",
       "      <td>0.150535</td>\n",
       "    </tr>\n",
       "    <tr>\n",
       "      <th>17587</th>\n",
       "      <td>Coll520_do065_interviewtext</td>\n",
       "      <td>women</td>\n",
       "      <td>0.229372</td>\n",
       "    </tr>\n",
       "    <tr>\n",
       "      <th>961835</th>\n",
       "      <td>Coll520_do068_interviewtext</td>\n",
       "      <td>women</td>\n",
       "      <td>0.140635</td>\n",
       "    </tr>\n",
       "    <tr>\n",
       "      <th>1068731</th>\n",
       "      <td>Coll520_do071_interviewtext</td>\n",
       "      <td>women</td>\n",
       "      <td>0.082597</td>\n",
       "    </tr>\n",
       "    <tr>\n",
       "      <th>748043</th>\n",
       "      <td>Coll520_do073_interviewtext</td>\n",
       "      <td>women</td>\n",
       "      <td>0.094157</td>\n",
       "    </tr>\n",
       "    <tr>\n",
       "      <th>997467</th>\n",
       "      <td>Coll520_do074_interviewtext</td>\n",
       "      <td>women</td>\n",
       "      <td>0.153265</td>\n",
       "    </tr>\n",
       "  </tbody>\n",
       "</table>\n",
       "</div>"
      ],
      "text/plain": [
       "                            document        term     tfidf\n",
       "320459   Coll520_do001_interviewtext       women  0.125321\n",
       "35403    Coll520_do003_interviewtext       women  0.089180\n",
       "391723   Coll520_do004_interviewtext       women  0.080173\n",
       "552068   Coll520_do005_interviewtext  womenspace  0.098685\n",
       "872755   Coll520_do008_interviewtext       women  0.188202\n",
       "765859   Coll520_do015_interviewtext       women  0.073654\n",
       "1246891  Coll520_do016_interviewtext       women  0.116463\n",
       "409539   Coll520_do018_interviewtext       women  0.079317\n",
       "890571   Coll520_do020_interviewtext       women  0.081946\n",
       "730227   Coll520_do021_interviewtext       women  0.131960\n",
       "1211259  Coll520_do022_interviewtext       women  0.125993\n",
       "641147   Coll520_do024_interviewtext       women  0.173915\n",
       "979651   Coll520_do026_interviewtext       women  0.071583\n",
       "480803   Coll520_do028_interviewtext       women  0.200908\n",
       "658963   Coll520_do038_interviewtext       women  0.131034\n",
       "1122179  Coll520_do041_interviewtext       women  0.096707\n",
       "231379   Coll520_do049_interviewtext       women  0.183101\n",
       "53219    Coll520_do051_interviewtext       women  0.185173\n",
       "498619   Coll520_do052_interviewtext       women  0.128169\n",
       "71035    Coll520_do060_interviewtext       women  0.067891\n",
       "534251   Coll520_do063_interviewtext       women  0.150535\n",
       "17587    Coll520_do065_interviewtext       women  0.229372\n",
       "961835   Coll520_do068_interviewtext       women  0.140635\n",
       "1068731  Coll520_do071_interviewtext       women  0.082597\n",
       "748043   Coll520_do073_interviewtext       women  0.094157\n",
       "997467   Coll520_do074_interviewtext       women  0.153265"
      ]
     },
     "execution_count": 19,
     "metadata": {},
     "output_type": "execute_result"
    }
   ],
   "source": [
    "top_tfidf[top_tfidf['term'].str.contains('women')]"
   ]
  },
  {
   "cell_type": "markdown",
   "metadata": {},
   "source": [
    "It turns out that the term \"women\" is very distinctive in Obama's Inaugural Address."
   ]
  },
  {
   "cell_type": "code",
   "execution_count": 20,
   "metadata": {},
   "outputs": [
    {
     "data": {
      "text/html": [
       "<div>\n",
       "<style scoped>\n",
       "    .dataframe tbody tr th:only-of-type {\n",
       "        vertical-align: middle;\n",
       "    }\n",
       "\n",
       "    .dataframe tbody tr th {\n",
       "        vertical-align: top;\n",
       "    }\n",
       "\n",
       "    .dataframe thead th {\n",
       "        text-align: right;\n",
       "    }\n",
       "</style>\n",
       "<table border=\"1\" class=\"dataframe\">\n",
       "  <thead>\n",
       "    <tr style=\"text-align: right;\">\n",
       "      <th></th>\n",
       "      <th>document</th>\n",
       "      <th>term</th>\n",
       "      <th>tfidf</th>\n",
       "    </tr>\n",
       "  </thead>\n",
       "  <tbody>\n",
       "  </tbody>\n",
       "</table>\n",
       "</div>"
      ],
      "text/plain": [
       "Empty DataFrame\n",
       "Columns: [document, term, tfidf]\n",
       "Index: []"
      ]
     },
     "execution_count": 20,
     "metadata": {},
     "output_type": "execute_result"
    }
   ],
   "source": [
    "top_tfidf[top_tfidf['document'].str.contains('kennedy')]"
   ]
  },
  {
   "cell_type": "markdown",
   "metadata": {},
   "source": [
    "## Visualize TF-IDF"
   ]
  },
  {
   "cell_type": "markdown",
   "metadata": {},
   "source": [
    "We can also visualize our TF-IDF results with the data visualization library Altair."
   ]
  },
  {
   "cell_type": "code",
   "execution_count": 21,
   "metadata": {},
   "outputs": [],
   "source": [
    "#!pip install altair"
   ]
  },
  {
   "cell_type": "markdown",
   "metadata": {},
   "source": [
    "Let's make a heatmap that shows the highest TF-IDF scoring words for each president, and let's put a red dot next to two terms of interest: \"war\" and \"peace\":\n",
    "\n",
    "The code below was contributed by [Eric Monson](https://github.com/emonson). Thanks, Eric!"
   ]
  },
  {
   "cell_type": "code",
   "execution_count": 22,
   "metadata": {
    "tags": [
     "hide-input"
    ]
   },
   "outputs": [
    {
     "data": {
      "text/html": [
       "\n",
       "<div id=\"altair-viz-a54e3b6291154f99ae2f95c038fc5e8e\"></div>\n",
       "<script type=\"text/javascript\">\n",
       "  var VEGA_DEBUG = (typeof VEGA_DEBUG == \"undefined\") ? {} : VEGA_DEBUG;\n",
       "  (function(spec, embedOpt){\n",
       "    let outputDiv = document.currentScript.previousElementSibling;\n",
       "    if (outputDiv.id !== \"altair-viz-a54e3b6291154f99ae2f95c038fc5e8e\") {\n",
       "      outputDiv = document.getElementById(\"altair-viz-a54e3b6291154f99ae2f95c038fc5e8e\");\n",
       "    }\n",
       "    const paths = {\n",
       "      \"vega\": \"https://cdn.jsdelivr.net/npm//vega@5?noext\",\n",
       "      \"vega-lib\": \"https://cdn.jsdelivr.net/npm//vega-lib?noext\",\n",
       "      \"vega-lite\": \"https://cdn.jsdelivr.net/npm//vega-lite@4.17.0?noext\",\n",
       "      \"vega-embed\": \"https://cdn.jsdelivr.net/npm//vega-embed@6?noext\",\n",
       "    };\n",
       "\n",
       "    function maybeLoadScript(lib, version) {\n",
       "      var key = `${lib.replace(\"-\", \"\")}_version`;\n",
       "      return (VEGA_DEBUG[key] == version) ?\n",
       "        Promise.resolve(paths[lib]) :\n",
       "        new Promise(function(resolve, reject) {\n",
       "          var s = document.createElement('script');\n",
       "          document.getElementsByTagName(\"head\")[0].appendChild(s);\n",
       "          s.async = true;\n",
       "          s.onload = () => {\n",
       "            VEGA_DEBUG[key] = version;\n",
       "            return resolve(paths[lib]);\n",
       "          };\n",
       "          s.onerror = () => reject(`Error loading script: ${paths[lib]}`);\n",
       "          s.src = paths[lib];\n",
       "        });\n",
       "    }\n",
       "\n",
       "    function showError(err) {\n",
       "      outputDiv.innerHTML = `<div class=\"error\" style=\"color:red;\">${err}</div>`;\n",
       "      throw err;\n",
       "    }\n",
       "\n",
       "    function displayChart(vegaEmbed) {\n",
       "      vegaEmbed(outputDiv, spec, embedOpt)\n",
       "        .catch(err => showError(`Javascript Error: ${err.message}<br>This usually means there's a typo in your chart specification. See the javascript console for the full traceback.`));\n",
       "    }\n",
       "\n",
       "    if(typeof define === \"function\" && define.amd) {\n",
       "      requirejs.config({paths});\n",
       "      require([\"vega-embed\"], displayChart, err => showError(`Error loading script: ${err.message}`));\n",
       "    } else {\n",
       "      maybeLoadScript(\"vega\", \"5\")\n",
       "        .then(() => maybeLoadScript(\"vega-lite\", \"4.17.0\"))\n",
       "        .then(() => maybeLoadScript(\"vega-embed\", \"6\"))\n",
       "        .catch(showError)\n",
       "        .then(() => displayChart(vegaEmbed));\n",
       "    }\n",
       "  })({\"config\": {\"view\": {\"continuousWidth\": 400, \"continuousHeight\": 300}}, \"layer\": [{\"mark\": \"rect\", \"encoding\": {\"color\": {\"field\": \"tfidf\", \"type\": \"quantitative\"}, \"x\": {\"field\": \"rank\", \"type\": \"ordinal\"}, \"y\": {\"field\": \"document\", \"type\": \"nominal\"}}, \"transform\": [{\"window\": [{\"op\": \"rank\", \"field\": \"\", \"as\": \"rank\"}], \"groupby\": [\"document\"], \"sort\": [{\"field\": \"tfidf\", \"order\": \"descending\"}]}]}, {\"mark\": {\"type\": \"circle\", \"size\": 100}, \"encoding\": {\"color\": {\"condition\": {\"value\": \"red\", \"test\": {\"field\": \"term\", \"oneOf\": [\"war\", \"peace\"]}}, \"value\": \"#FFFFFF00\"}, \"x\": {\"field\": \"rank\", \"type\": \"ordinal\"}, \"y\": {\"field\": \"document\", \"type\": \"nominal\"}}, \"transform\": [{\"window\": [{\"op\": \"rank\", \"field\": \"\", \"as\": \"rank\"}], \"groupby\": [\"document\"], \"sort\": [{\"field\": \"tfidf\", \"order\": \"descending\"}]}]}, {\"mark\": {\"type\": \"text\", \"baseline\": \"middle\"}, \"encoding\": {\"color\": {\"condition\": {\"value\": \"white\", \"test\": \"(datum.tfidf >= 0.23)\"}, \"value\": \"black\"}, \"text\": {\"field\": \"term\", \"type\": \"nominal\"}, \"x\": {\"field\": \"rank\", \"type\": \"ordinal\"}, \"y\": {\"field\": \"document\", \"type\": \"nominal\"}}, \"transform\": [{\"window\": [{\"op\": \"rank\", \"field\": \"\", \"as\": \"rank\"}], \"groupby\": [\"document\"], \"sort\": [{\"field\": \"tfidf\", \"order\": \"descending\"}]}]}], \"data\": {\"name\": \"data-1fd21794e6e0391d3b0da86164bb2c44\"}, \"width\": 600, \"$schema\": \"https://vega.github.io/schema/vega-lite/v4.17.0.json\", \"datasets\": {\"data-1fd21794e6e0391d3b0da86164bb2c44\": [{\"document\": \"Coll520_do001_interviewtext\", \"term\": \"agapito\", \"tfidf\": 0.6108753717038453}, {\"document\": \"Coll520_do001_interviewtext\", \"term\": \"womanshare\", \"tfidf\": 0.16962426616611556}, {\"document\": \"Coll520_do001_interviewtext\", \"term\": \"really\", \"tfidf\": 0.14250103926510155}, {\"document\": \"Coll520_do001_interviewtext\", \"term\": \"would\", \"tfidf\": 0.13866543661126493}, {\"document\": \"Coll520_do001_interviewtext\", \"term\": \"remember\", \"tfidf\": 0.1310968980984713}, {\"document\": \"Coll520_do001_interviewtext\", \"term\": \"child\", \"tfidf\": 0.12840087397512545}, {\"document\": \"Coll520_do001_interviewtext\", \"term\": \"janice\", \"tfidf\": 0.12658860562339502}, {\"document\": \"Coll520_do001_interviewtext\", \"term\": \"women\", \"tfidf\": 0.12538844663738608}, {\"document\": \"Coll520_do001_interviewtext\", \"term\": \"going\", \"tfidf\": 0.11206504004502156}, {\"document\": \"Coll520_do001_interviewtext\", \"term\": \"said\", \"tfidf\": 0.11014638473803105}, {\"document\": \"Coll520_do002_interviewtext\", \"term\": \"cleveland\", \"tfidf\": 0.44231383371684707}, {\"document\": \"Coll520_do002_interviewtext\", \"term\": \"think\", \"tfidf\": 0.16852171113882397}, {\"document\": \"Coll520_do002_interviewtext\", \"term\": \"would\", \"tfidf\": 0.16654381689600115}, {\"document\": \"Coll520_do002_interviewtext\", \"term\": \"like\", \"tfidf\": 0.16448291276247246}, {\"document\": \"Coll520_do002_interviewtext\", \"term\": \"going\", \"tfidf\": 0.15853663352684733}, {\"document\": \"Coll520_do002_interviewtext\", \"term\": \"school\", \"tfidf\": 0.15859969210783317}, {\"document\": \"Coll520_do002_interviewtext\", \"term\": \"know\", \"tfidf\": 0.15458579171073072}, {\"document\": \"Coll520_do002_interviewtext\", \"term\": \"one\", \"tfidf\": 0.13082490430587845}, {\"document\": \"Coll520_do002_interviewtext\", \"term\": \"got\", \"tfidf\": 0.11892885465311565}, {\"document\": \"Coll520_do002_interviewtext\", \"term\": \"jersey\", \"tfidf\": 0.1188156814464033}, {\"document\": \"Coll520_do003_interviewtext\", \"term\": \"anderson\", \"tfidf\": 0.6768233468384103}, {\"document\": \"Coll520_do003_interviewtext\", \"term\": \"evelyn\", \"tfidf\": 0.2348258997234968}, {\"document\": \"Coll520_do003_interviewtext\", \"term\": \"soviet\", \"tfidf\": 0.15843886628079368}, {\"document\": \"Coll520_do003_interviewtext\", \"term\": \"people\", \"tfidf\": 0.14475319970505413}, {\"document\": \"Coll520_do003_interviewtext\", \"term\": \"really\", \"tfidf\": 0.11895383092848716}, {\"document\": \"Coll520_do003_interviewtext\", \"term\": \"bonnie\", \"tfidf\": 0.11745047282820083}, {\"document\": \"Coll520_do003_interviewtext\", \"term\": \"go\", \"tfidf\": 0.11098788711466495}, {\"document\": \"Coll520_do003_interviewtext\", \"term\": \"know\", \"tfidf\": 0.1030648597398445}, {\"document\": \"Coll520_do003_interviewtext\", \"term\": \"like\", \"tfidf\": 0.09124062790161466}, {\"document\": \"Coll520_do003_interviewtext\", \"term\": \"women\", \"tfidf\": 0.08921585365498358}, {\"document\": \"Coll520_do004_interviewtext\", \"term\": \"anderson\", \"tfidf\": 0.846168356516223}, {\"document\": \"Coll520_do004_interviewtext\", \"term\": \"yeah\", \"tfidf\": 0.13058779597373266}, {\"document\": \"Coll520_do004_interviewtext\", \"term\": \"like\", \"tfidf\": 0.12834639463228967}, {\"document\": \"Coll520_do004_interviewtext\", \"term\": \"think\", \"tfidf\": 0.10773577824797634}, {\"document\": \"Coll520_do004_interviewtext\", \"term\": \"would\", \"tfidf\": 0.09859012769167376}, {\"document\": \"Coll520_do004_interviewtext\", \"term\": \"go\", \"tfidf\": 0.09162627581304429}, {\"document\": \"Coll520_do004_interviewtext\", \"term\": \"people\", \"tfidf\": 0.08936491111133611}, {\"document\": \"Coll520_do004_interviewtext\", \"term\": \"women\", \"tfidf\": 0.08023828956639643}, {\"document\": \"Coll520_do004_interviewtext\", \"term\": \"know\", \"tfidf\": 0.07792998870720905}, {\"document\": \"Coll520_do004_interviewtext\", \"term\": \"long\", \"tfidf\": 0.06646462198721002}, {\"document\": \"Coll520_do005_interviewtext\", \"term\": \"anderton\", \"tfidf\": 0.7778393529727082}, {\"document\": \"Coll520_do005_interviewtext\", \"term\": \"yeah\", \"tfidf\": 0.14783371489674818}, {\"document\": \"Coll520_do005_interviewtext\", \"term\": \"people\", \"tfidf\": 0.13821321366756573}, {\"document\": \"Coll520_do005_interviewtext\", \"term\": \"janet\", \"tfidf\": 0.10083823106094553}, {\"document\": \"Coll520_do005_interviewtext\", \"term\": \"womenspace\", \"tfidf\": 0.09869594712622222}, {\"document\": \"Coll520_do005_interviewtext\", \"term\": \"think\", \"tfidf\": 0.09643422419777957}, {\"document\": \"Coll520_do005_interviewtext\", \"term\": \"like\", \"tfidf\": 0.09004302407158944}, {\"document\": \"Coll520_do005_interviewtext\", \"term\": \"time\", \"tfidf\": 0.08683571499666203}, {\"document\": \"Coll520_do005_interviewtext\", \"term\": \"would\", \"tfidf\": 0.08360207237188236}, {\"document\": \"Coll520_do005_interviewtext\", \"term\": \"back\", \"tfidf\": 0.08040133552732671}, {\"document\": \"Coll520_do006_interviewtext\", \"term\": \"boles\", \"tfidf\": 0.5280530986184179}, {\"document\": \"Coll520_do006_interviewtext\", \"term\": \"bennett\", \"tfidf\": 0.4216697125751502}, {\"document\": \"Coll520_do006_interviewtext\", \"term\": \"adams\", \"tfidf\": 0.3284170248501071}, {\"document\": \"Coll520_do006_interviewtext\", \"term\": \"carole\", \"tfidf\": 0.18275681558816217}, {\"document\": \"Coll520_do006_interviewtext\", \"term\": \"people\", \"tfidf\": 0.13424010470148084}, {\"document\": \"Coll520_do006_interviewtext\", \"term\": \"judy\", \"tfidf\": 0.1307546681203399}, {\"document\": \"Coll520_do006_interviewtext\", \"term\": \"well\", \"tfidf\": 0.12521429816307353}, {\"document\": \"Coll520_do006_interviewtext\", \"term\": \"really\", \"tfidf\": 0.12073405071449592}, {\"document\": \"Coll520_do006_interviewtext\", \"term\": \"like\", \"tfidf\": 0.11620371718171127}, {\"document\": \"Coll520_do006_interviewtext\", \"term\": \"know\", \"tfidf\": 0.11159203913914806}, {\"document\": \"Coll520_do007_interviewtext\", \"term\": \"bills\", \"tfidf\": 0.31653391044891865}, {\"document\": \"Coll520_do007_interviewtext\", \"term\": \"swat\", \"tfidf\": 0.24493407961037775}, {\"document\": \"Coll520_do007_interviewtext\", \"term\": \"know\", \"tfidf\": 0.21599456404771694}, {\"document\": \"Coll520_do007_interviewtext\", \"term\": \"time\", \"tfidf\": 0.1882021827216351}, {\"document\": \"Coll520_do007_interviewtext\", \"term\": \"police\", \"tfidf\": 0.15646838472645902}, {\"document\": \"Coll520_do007_interviewtext\", \"term\": \"think\", \"tfidf\": 0.151203924047137}, {\"document\": \"Coll520_do007_interviewtext\", \"term\": \"lesbian\", \"tfidf\": 0.12963998576292773}, {\"document\": \"Coll520_do007_interviewtext\", \"term\": \"got\", \"tfidf\": 0.1233951649671988}, {\"document\": \"Coll520_do007_interviewtext\", \"term\": \"really\", \"tfidf\": 0.12039373279203244}, {\"document\": \"Coll520_do007_interviewtext\", \"term\": \"officer\", \"tfidf\": 0.115502193274185}, {\"document\": \"Coll520_do008_interviewtext\", \"term\": \"campbell\", \"tfidf\": 0.5918116874092985}, {\"document\": \"Coll520_do008_interviewtext\", \"term\": \"would\", \"tfidf\": 0.2686280713096782}, {\"document\": \"Coll520_do008_interviewtext\", \"term\": \"like\", \"tfidf\": 0.21564750550034764}, {\"document\": \"Coll520_do008_interviewtext\", \"term\": \"women\", \"tfidf\": 0.18823073470057256}, {\"document\": \"Coll520_do008_interviewtext\", \"term\": \"crews\", \"tfidf\": 0.13997773645880401}, {\"document\": \"Coll520_do008_interviewtext\", \"term\": \"planting\", \"tfidf\": 0.13776056630206862}, {\"document\": \"Coll520_do008_interviewtext\", \"term\": \"think\", \"tfidf\": 0.13709473111886974}, {\"document\": \"Coll520_do008_interviewtext\", \"term\": \"contract\", \"tfidf\": 0.10424569404017994}, {\"document\": \"Coll520_do008_interviewtext\", \"term\": \"really\", \"tfidf\": 0.10423789762419071}, {\"document\": \"Coll520_do008_interviewtext\", \"term\": \"trees\", \"tfidf\": 0.10142098080540123}, {\"document\": \"Coll520_do009_interviewtext\", \"term\": \"cohen\", \"tfidf\": 0.8717891697259988}, {\"document\": \"Coll520_do009_interviewtext\", \"term\": \"mean\", \"tfidf\": 0.14148706178432816}, {\"document\": \"Coll520_do009_interviewtext\", \"term\": \"people\", \"tfidf\": 0.10619716224667024}, {\"document\": \"Coll520_do009_interviewtext\", \"term\": \"charlottesville\", \"tfidf\": 0.09912978985177763}, {\"document\": \"Coll520_do009_interviewtext\", \"term\": \"think\", \"tfidf\": 0.08457425610066607}, {\"document\": \"Coll520_do009_interviewtext\", \"term\": \"yeah\", \"tfidf\": 0.08456384099940498}, {\"document\": \"Coll520_do009_interviewtext\", \"term\": \"long\", \"tfidf\": 0.08264717747868887}, {\"document\": \"Coll520_do009_interviewtext\", \"term\": \"well\", \"tfidf\": 0.07278654231418998}, {\"document\": \"Coll520_do009_interviewtext\", \"term\": \"remember\", \"tfidf\": 0.06888871417267285}, {\"document\": \"Coll520_do009_interviewtext\", \"term\": \"starflower\", \"tfidf\": 0.06223462350111831}, {\"document\": \"Coll520_do010_interviewtext\", \"term\": \"dennis\", \"tfidf\": 0.3136688025475836}, {\"document\": \"Coll520_do010_interviewtext\", \"term\": \"theater\", \"tfidf\": 0.16640094051571705}, {\"document\": \"Coll520_do010_interviewtext\", \"term\": \"apple\", \"tfidf\": 0.16189220874171656}, {\"document\": \"Coll520_do010_interviewtext\", \"term\": \"got\", \"tfidf\": 0.15006402744772826}, {\"document\": \"Coll520_do010_interviewtext\", \"term\": \"like\", \"tfidf\": 0.14817780995514915}, {\"document\": \"Coll520_do010_interviewtext\", \"term\": \"know\", \"tfidf\": 0.14070849191872623}, {\"document\": \"Coll520_do010_interviewtext\", \"term\": \"years\", \"tfidf\": 0.13133337237781967}, {\"document\": \"Coll520_do010_interviewtext\", \"term\": \"bob\", \"tfidf\": 0.13119004404145657}, {\"document\": \"Coll520_do010_interviewtext\", \"term\": \"one\", \"tfidf\": 0.1256947768699813}, {\"document\": \"Coll520_do010_interviewtext\", \"term\": \"bluefish\", \"tfidf\": 0.1253523540227902}, {\"document\": \"Coll520_do011_interviewtext\", \"term\": \"depaolis\", \"tfidf\": 0.5898509526785358}, {\"document\": \"Coll520_do011_interviewtext\", \"term\": \"really\", \"tfidf\": 0.20004899997273767}, {\"document\": \"Coll520_do011_interviewtext\", \"term\": \"law\", \"tfidf\": 0.18880298121915826}, {\"document\": \"Coll520_do011_interviewtext\", \"term\": \"know\", \"tfidf\": 0.15496662639295483}, {\"document\": \"Coll520_do011_interviewtext\", \"term\": \"people\", \"tfidf\": 0.1549474080433538}, {\"document\": \"Coll520_do011_interviewtext\", \"term\": \"like\", \"tfidf\": 0.14130316931502396}, {\"document\": \"Coll520_do011_interviewtext\", \"term\": \"lot\", \"tfidf\": 0.13343770508689629}, {\"document\": \"Coll520_do011_interviewtext\", \"term\": \"one\", \"tfidf\": 0.13344143645332307}, {\"document\": \"Coll520_do011_interviewtext\", \"term\": \"well\", \"tfidf\": 0.13336195336068166}, {\"document\": \"Coll520_do011_interviewtext\", \"term\": \"said\", \"tfidf\": 0.13144114039718513}, {\"document\": \"Coll520_do012_interviewtext\", \"term\": \"detroy\", \"tfidf\": 0.7193917879528993}, {\"document\": \"Coll520_do012_interviewtext\", \"term\": \"like\", \"tfidf\": 0.27555619909218854}, {\"document\": \"Coll520_do012_interviewtext\", \"term\": \"people\", \"tfidf\": 0.19624824293330828}, {\"document\": \"Coll520_do012_interviewtext\", \"term\": \"time\", \"tfidf\": 0.11908389746792024}, {\"document\": \"Coll520_do012_interviewtext\", \"term\": \"yeah\", \"tfidf\": 0.10807937664625737}, {\"document\": \"Coll520_do012_interviewtext\", \"term\": \"know\", \"tfidf\": 0.10368262439741291}, {\"document\": \"Coll520_do012_interviewtext\", \"term\": \"still\", \"tfidf\": 0.09697772547447774}, {\"document\": \"Coll520_do012_interviewtext\", \"term\": \"think\", \"tfidf\": 0.09479589071459829}, {\"document\": \"Coll520_do012_interviewtext\", \"term\": \"go\", \"tfidf\": 0.09263790924670082}, {\"document\": \"Coll520_do012_interviewtext\", \"term\": \"would\", \"tfidf\": 0.08823078643596843}, {\"document\": \"Coll520_do013_interviewtext\", \"term\": \"douglas\", \"tfidf\": 0.43664079733736416}, {\"document\": \"Coll520_do013_interviewtext\", \"term\": \"task\", \"tfidf\": 0.2111428702657499}, {\"document\": \"Coll520_do013_interviewtext\", \"term\": \"people\", \"tfidf\": 0.16076525244026246}, {\"document\": \"Coll520_do013_interviewtext\", \"term\": \"lesbian\", \"tfidf\": 0.154450886365798}, {\"document\": \"Coll520_do013_interviewtext\", \"term\": \"really\", \"tfidf\": 0.1544455418832363}, {\"document\": \"Coll520_do013_interviewtext\", \"term\": \"force\", \"tfidf\": 0.15271850730429637}, {\"document\": \"Coll520_do013_interviewtext\", \"term\": \"mean\", \"tfidf\": 0.14131972064965143}, {\"document\": \"Coll520_do013_interviewtext\", \"term\": \"one\", \"tfidf\": 0.12604524310749748}, {\"document\": \"Coll520_do013_interviewtext\", \"term\": \"gay\", \"tfidf\": 0.11822443030684678}, {\"document\": \"Coll520_do013_interviewtext\", \"term\": \"veneta\", \"tfidf\": 0.11546013716100038}, {\"document\": \"Coll520_do014_interviewtext\", \"term\": \"drescher\", \"tfidf\": 0.7175062950478209}, {\"document\": \"Coll520_do014_interviewtext\", \"term\": \"like\", \"tfidf\": 0.12449958847434198}, {\"document\": \"Coll520_do014_interviewtext\", \"term\": \"think\", \"tfidf\": 0.12207502678958641}, {\"document\": \"Coll520_do014_interviewtext\", \"term\": \"bri\", \"tfidf\": 0.12075660826179217}, {\"document\": \"Coll520_do014_interviewtext\", \"term\": \"people\", \"tfidf\": 0.11496282063362129}, {\"document\": \"Coll520_do014_interviewtext\", \"term\": \"would\", \"tfidf\": 0.11492493801740337}, {\"document\": \"Coll520_do014_interviewtext\", \"term\": \"police\", \"tfidf\": 0.10836381333271392}, {\"document\": \"Coll520_do014_interviewtext\", \"term\": \"one\", \"tfidf\": 0.10301357193888463}, {\"document\": \"Coll520_do014_interviewtext\", \"term\": \"time\", \"tfidf\": 0.10296347346952762}, {\"document\": \"Coll520_do014_interviewtext\", \"term\": \"well\", \"tfidf\": 0.10300663587171026}, {\"document\": \"Coll520_do015_interviewtext\", \"term\": \"dugaw\", \"tfidf\": 0.6134360736764307}, {\"document\": \"Coll520_do015_interviewtext\", \"term\": \"powell\", \"tfidf\": 0.5722057817633058}, {\"document\": \"Coll520_do015_interviewtext\", \"term\": \"dianne\", \"tfidf\": 0.11827086056371539}, {\"document\": \"Coll520_do015_interviewtext\", \"term\": \"really\", \"tfidf\": 0.11665938119349636}, {\"document\": \"Coll520_do015_interviewtext\", \"term\": \"yeah\", \"tfidf\": 0.09976405521130532}, {\"document\": \"Coll520_do015_interviewtext\", \"term\": \"people\", \"tfidf\": 0.09676352758687957}, {\"document\": \"Coll520_do015_interviewtext\", \"term\": \"know\", \"tfidf\": 0.07988747121603655}, {\"document\": \"Coll520_do015_interviewtext\", \"term\": \"kind\", \"tfidf\": 0.0767978539993037}, {\"document\": \"Coll520_do015_interviewtext\", \"term\": \"like\", \"tfidf\": 0.07675825195441317}, {\"document\": \"Coll520_do015_interviewtext\", \"term\": \"women\", \"tfidf\": 0.07375119346710765}, {\"document\": \"Coll520_do016_interviewtext\", \"term\": \"farwell\", \"tfidf\": 0.7009437200874388}, {\"document\": \"Coll520_do016_interviewtext\", \"term\": \"opera\", \"tfidf\": 0.14237418351775674}, {\"document\": \"Coll520_do016_interviewtext\", \"term\": \"one\", \"tfidf\": 0.1374478492577531}, {\"document\": \"Coll520_do016_interviewtext\", \"term\": \"time\", \"tfidf\": 0.13740905356808084}, {\"document\": \"Coll520_do016_interviewtext\", \"term\": \"women\", \"tfidf\": 0.11651485441812062}, {\"document\": \"Coll520_do016_interviewtext\", \"term\": \"like\", \"tfidf\": 0.11349154814937508}, {\"document\": \"Coll520_do016_interviewtext\", \"term\": \"milton\", \"tfidf\": 0.09586306110272341}, {\"document\": \"Coll520_do016_interviewtext\", \"term\": \"would\", \"tfidf\": 0.09560220615511776}, {\"document\": \"Coll520_do016_interviewtext\", \"term\": \"tenure\", \"tfidf\": 0.0834087230764541}, {\"document\": \"Coll520_do016_interviewtext\", \"term\": \"scholarly\", \"tfidf\": 0.0821715382563144}, {\"document\": \"Coll520_do017_interviewtext\", \"term\": \"finkelstein\", \"tfidf\": 0.8912773294524585}, {\"document\": \"Coll520_do017_interviewtext\", \"term\": \"people\", \"tfidf\": 0.13483142101638282}, {\"document\": \"Coll520_do017_interviewtext\", \"term\": \"long\", \"tfidf\": 0.1056226767843188}, {\"document\": \"Coll520_do017_interviewtext\", \"term\": \"like\", \"tfidf\": 0.08766300700708456}, {\"document\": \"Coll520_do017_interviewtext\", \"term\": \"think\", \"tfidf\": 0.08088920350868094}, {\"document\": \"Coll520_do017_interviewtext\", \"term\": \"yeah\", \"tfidf\": 0.07419561110868}, {\"document\": \"Coll520_do017_interviewtext\", \"term\": \"know\", \"tfidf\": 0.07193467191491462}, {\"document\": \"Coll520_do017_interviewtext\", \"term\": \"well\", \"tfidf\": 0.07187298089455905}, {\"document\": \"Coll520_do017_interviewtext\", \"term\": \"community\", \"tfidf\": 0.06745676713578183}, {\"document\": \"Coll520_do017_interviewtext\", \"term\": \"lot\", \"tfidf\": 0.06289682976955518}, {\"document\": \"Coll520_do018_interviewtext\", \"term\": \"fletcher\", \"tfidf\": 0.8435750757112966}, {\"document\": \"Coll520_do018_interviewtext\", \"term\": \"joanne\", \"tfidf\": 0.14991253485864842}, {\"document\": \"Coll520_do018_interviewtext\", \"term\": \"like\", \"tfidf\": 0.09014105860398385}, {\"document\": \"Coll520_do018_interviewtext\", \"term\": \"would\", \"tfidf\": 0.0902225236993794}, {\"document\": \"Coll520_do018_interviewtext\", \"term\": \"lesbian\", \"tfidf\": 0.08839818099211623}, {\"document\": \"Coll520_do018_interviewtext\", \"term\": \"really\", \"tfidf\": 0.08473009913693538}, {\"document\": \"Coll520_do018_interviewtext\", \"term\": \"yeah\", \"tfidf\": 0.08294023480938315}, {\"document\": \"Coll520_do018_interviewtext\", \"term\": \"think\", \"tfidf\": 0.08112346165021857}, {\"document\": \"Coll520_do018_interviewtext\", \"term\": \"got\", \"tfidf\": 0.07934088529507713}, {\"document\": \"Coll520_do018_interviewtext\", \"term\": \"women\", \"tfidf\": 0.07933600153127739}, {\"document\": \"Coll520_do019_interviewtext\", \"term\": \"fletcher\", \"tfidf\": 0.6378568906376141}, {\"document\": \"Coll520_do019_interviewtext\", \"term\": \"know\", \"tfidf\": 0.198476693270139}, {\"document\": \"Coll520_do019_interviewtext\", \"term\": \"linn\", \"tfidf\": 0.1913938406122455}, {\"document\": \"Coll520_do019_interviewtext\", \"term\": \"like\", \"tfidf\": 0.18837459053510774}, {\"document\": \"Coll520_do019_interviewtext\", \"term\": \"said\", \"tfidf\": 0.12985656402656492}, {\"document\": \"Coll520_do019_interviewtext\", \"term\": \"really\", \"tfidf\": 0.122224919626185}, {\"document\": \"Coll520_do019_interviewtext\", \"term\": \"time\", \"tfidf\": 0.11457078637167017}, {\"document\": \"Coll520_do019_interviewtext\", \"term\": \"remember\", \"tfidf\": 0.10436907978917348}, {\"document\": \"Coll520_do019_interviewtext\", \"term\": \"going\", \"tfidf\": 0.10181399264577212}, {\"document\": \"Coll520_do019_interviewtext\", \"term\": \"think\", \"tfidf\": 0.10184395880047437}, {\"document\": \"Coll520_do020_interviewtext\", \"term\": \"frazer\", \"tfidf\": 0.8292255116502525}, {\"document\": \"Coll520_do020_interviewtext\", \"term\": \"like\", \"tfidf\": 0.11390297688175624}, {\"document\": \"Coll520_do020_interviewtext\", \"term\": \"got\", \"tfidf\": 0.09873816601686636}, {\"document\": \"Coll520_do020_interviewtext\", \"term\": \"mean\", \"tfidf\": 0.08869770075646646}, {\"document\": \"Coll520_do020_interviewtext\", \"term\": \"know\", \"tfidf\": 0.08504829761141235}, {\"document\": \"Coll520_do020_interviewtext\", \"term\": \"back\", \"tfidf\": 0.0819791528379422}, {\"document\": \"Coll520_do020_interviewtext\", \"term\": \"women\", \"tfidf\": 0.08199167860639983}, {\"document\": \"Coll520_do020_interviewtext\", \"term\": \"people\", \"tfidf\": 0.0759641283905191}, {\"document\": \"Coll520_do020_interviewtext\", \"term\": \"symantec\", \"tfidf\": 0.06959526940750081}, {\"document\": \"Coll520_do020_interviewtext\", \"term\": \"hippie\", \"tfidf\": 0.06824007125544486}, {\"document\": \"Coll520_do021_interviewtext\", \"term\": \"goldstein\", \"tfidf\": 0.6731528744185222}, {\"document\": \"Coll520_do021_interviewtext\", \"term\": \"know\", \"tfidf\": 0.15511456236590815}, {\"document\": \"Coll520_do021_interviewtext\", \"term\": \"charles\", \"tfidf\": 0.1531736590771152}, {\"document\": \"Coll520_do021_interviewtext\", \"term\": \"long\", \"tfidf\": 0.14821691545507382}, {\"document\": \"Coll520_do021_interviewtext\", \"term\": \"think\", \"tfidf\": 0.14362357148167168}, {\"document\": \"Coll520_do021_interviewtext\", \"term\": \"women\", \"tfidf\": 0.13199385157263763}, {\"document\": \"Coll520_do021_interviewtext\", \"term\": \"people\", \"tfidf\": 0.12968635290381497}, {\"document\": \"Coll520_do021_interviewtext\", \"term\": \"like\", \"tfidf\": 0.12043868210219179}, {\"document\": \"Coll520_do021_interviewtext\", \"term\": \"one\", \"tfidf\": 0.09729625265457045}, {\"document\": \"Coll520_do021_interviewtext\", \"term\": \"starflower\", \"tfidf\": 0.09640964081296836}, {\"document\": \"Coll520_do022_interviewtext\", \"term\": \"grimes\", \"tfidf\": 0.6627886730487507}, {\"document\": \"Coll520_do022_interviewtext\", \"term\": \"disability\", \"tfidf\": 0.16262017261603048}, {\"document\": \"Coll520_do022_interviewtext\", \"term\": \"people\", \"tfidf\": 0.1403430061948714}, {\"document\": \"Coll520_do022_interviewtext\", \"term\": \"crew\", \"tfidf\": 0.13861139208164633}, {\"document\": \"Coll520_do022_interviewtext\", \"term\": \"would\", \"tfidf\": 0.13084492723619512}, {\"document\": \"Coll520_do022_interviewtext\", \"term\": \"crews\", \"tfidf\": 0.12673230214227318}, {\"document\": \"Coll520_do022_interviewtext\", \"term\": \"women\", \"tfidf\": 0.12603827839224757}, {\"document\": \"Coll520_do022_interviewtext\", \"term\": \"like\", \"tfidf\": 0.1213054390496603}, {\"document\": \"Coll520_do022_interviewtext\", \"term\": \"countries\", \"tfidf\": 0.09679277986044009}, {\"document\": \"Coll520_do022_interviewtext\", \"term\": \"wheelchair\", \"tfidf\": 0.09296161869516793}, {\"document\": \"Coll520_do023_interviewtext\", \"term\": \"hellemn\", \"tfidf\": 0.6096170805644083}, {\"document\": \"Coll520_do023_interviewtext\", \"term\": \"hagedorn\", \"tfidf\": 0.6034294188867161}, {\"document\": \"Coll520_do023_interviewtext\", \"term\": \"choir\", \"tfidf\": 0.18198710527969228}, {\"document\": \"Coll520_do023_interviewtext\", \"term\": \"really\", \"tfidf\": 0.13015802634132229}, {\"document\": \"Coll520_do023_interviewtext\", \"term\": \"people\", \"tfidf\": 0.11835261578011037}, {\"document\": \"Coll520_do023_interviewtext\", \"term\": \"like\", \"tfidf\": 0.11177711000730672}, {\"document\": \"Coll520_do023_interviewtext\", \"term\": \"sing\", \"tfidf\": 0.07897076834732161}, {\"document\": \"Coll520_do023_interviewtext\", \"term\": \"us\", \"tfidf\": 0.06975545498270837}, {\"document\": \"Coll520_do023_interviewtext\", \"term\": \"going\", \"tfidf\": 0.06446335688534828}, {\"document\": \"Coll520_do023_interviewtext\", \"term\": \"think\", \"tfidf\": 0.06312825674374975}, {\"document\": \"Coll520_do024_interviewtext\", \"term\": \"harris\", \"tfidf\": 0.6461543473316259}, {\"document\": \"Coll520_do024_interviewtext\", \"term\": \"really\", \"tfidf\": 0.2107132049648881}, {\"document\": \"Coll520_do024_interviewtext\", \"term\": \"women\", \"tfidf\": 0.17396721627077677}, {\"document\": \"Coll520_do024_interviewtext\", \"term\": \"think\", \"tfidf\": 0.15385663020182563}, {\"document\": \"Coll520_do024_interviewtext\", \"term\": \"like\", \"tfidf\": 0.13384642050834925}, {\"document\": \"Coll520_do024_interviewtext\", \"term\": \"bookstore\", \"tfidf\": 0.12698986548061447}, {\"document\": \"Coll520_do024_interviewtext\", \"term\": \"ross\", \"tfidf\": 0.12269718942919282}, {\"document\": \"Coll520_do024_interviewtext\", \"term\": \"lot\", \"tfidf\": 0.1171259898502882}, {\"document\": \"Coll520_do024_interviewtext\", \"term\": \"people\", \"tfidf\": 0.10707443951217069}, {\"document\": \"Coll520_do024_interviewtext\", \"term\": \"time\", \"tfidf\": 0.10371743564834797}, {\"document\": \"Coll520_do025_interviewtext\", \"term\": \"shawn\", \"tfidf\": 0.7263256047892865}, {\"document\": \"Coll520_do025_interviewtext\", \"term\": \"hays\", \"tfidf\": 0.5315142573078112}, {\"document\": \"Coll520_do025_interviewtext\", \"term\": \"like\", \"tfidf\": 0.0885825779310728}, {\"document\": \"Coll520_do025_interviewtext\", \"term\": \"one\", \"tfidf\": 0.08197891419642532}, {\"document\": \"Coll520_do025_interviewtext\", \"term\": \"know\", \"tfidf\": 0.07658299246880093}, {\"document\": \"Coll520_do025_interviewtext\", \"term\": \"alicia\", \"tfidf\": 0.07625578664749955}, {\"document\": \"Coll520_do025_interviewtext\", \"term\": \"people\", \"tfidf\": 0.07220520017980613}, {\"document\": \"Coll520_do025_interviewtext\", \"term\": \"think\", \"tfidf\": 0.07221826773848507}, {\"document\": \"Coll520_do025_interviewtext\", \"term\": \"donor\", \"tfidf\": 0.07021231840852321}, {\"document\": \"Coll520_do025_interviewtext\", \"term\": \"jackson\", \"tfidf\": 0.06919165590170204}, {\"document\": \"Coll520_do026_interviewtext\", \"term\": \"hendrickson\", \"tfidf\": 0.8464615022676751}, {\"document\": \"Coll520_do026_interviewtext\", \"term\": \"gretchen\", \"tfidf\": 0.12487173693195631}, {\"document\": \"Coll520_do026_interviewtext\", \"term\": \"long\", \"tfidf\": 0.12222012968709635}, {\"document\": \"Coll520_do026_interviewtext\", \"term\": \"think\", \"tfidf\": 0.08032173125051435}, {\"document\": \"Coll520_do026_interviewtext\", \"term\": \"lesbian\", \"tfidf\": 0.07903790156333075}, {\"document\": \"Coll520_do026_interviewtext\", \"term\": \"patients\", \"tfidf\": 0.07313516451350333}, {\"document\": \"Coll520_do026_interviewtext\", \"term\": \"going\", \"tfidf\": 0.07160724030746204}, {\"document\": \"Coll520_do026_interviewtext\", \"term\": \"women\", \"tfidf\": 0.07167593910855055}, {\"document\": \"Coll520_do026_interviewtext\", \"term\": \"medical\", \"tfidf\": 0.07112067073829545}, {\"document\": \"Coll520_do026_interviewtext\", \"term\": \"got\", \"tfidf\": 0.06671820266422578}, {\"document\": \"Coll520_do027_interviewtext\", \"term\": \"ironplow\", \"tfidf\": 0.6329999914977364}, {\"document\": \"Coll520_do027_interviewtext\", \"term\": \"know\", \"tfidf\": 0.2905317620980914}, {\"document\": \"Coll520_do027_interviewtext\", \"term\": \"like\", \"tfidf\": 0.24269506997603185}, {\"document\": \"Coll520_do027_interviewtext\", \"term\": \"well\", \"tfidf\": 0.11790531175326072}, {\"document\": \"Coll520_do027_interviewtext\", \"term\": \"would\", \"tfidf\": 0.1110686484747518}, {\"document\": \"Coll520_do027_interviewtext\", \"term\": \"really\", \"tfidf\": 0.10765240921949287}, {\"document\": \"Coll520_do027_interviewtext\", \"term\": \"long\", \"tfidf\": 0.10256937003237149}, {\"document\": \"Coll520_do027_interviewtext\", \"term\": \"izzie\", \"tfidf\": 0.10200199750101528}, {\"document\": \"Coll520_do027_interviewtext\", \"term\": \"people\", \"tfidf\": 0.10083100857102247}, {\"document\": \"Coll520_do027_interviewtext\", \"term\": \"think\", \"tfidf\": 0.09747795321704192}, {\"document\": \"Coll520_do028_interviewtext\", \"term\": \"lefton\", \"tfidf\": 0.7113799417213017}, {\"document\": \"Coll520_do028_interviewtext\", \"term\": \"like\", \"tfidf\": 0.21484049638625222}, {\"document\": \"Coll520_do028_interviewtext\", \"term\": \"women\", \"tfidf\": 0.20093757358283038}, {\"document\": \"Coll520_do028_interviewtext\", \"term\": \"know\", \"tfidf\": 0.16628417946581694}, {\"document\": \"Coll520_do028_interviewtext\", \"term\": \"yeah\", \"tfidf\": 0.1340155676003554}, {\"document\": \"Coll520_do028_interviewtext\", \"term\": \"think\", \"tfidf\": 0.12937910132206726}, {\"document\": \"Coll520_do028_interviewtext\", \"term\": \"music\", \"tfidf\": 0.12016140295691015}, {\"document\": \"Coll520_do028_interviewtext\", \"term\": \"kind\", \"tfidf\": 0.10396459139017573}, {\"document\": \"Coll520_do028_interviewtext\", \"term\": \"remember\", \"tfidf\": 0.10163659739684987}, {\"document\": \"Coll520_do028_interviewtext\", \"term\": \"really\", \"tfidf\": 0.09706680753794206}, {\"document\": \"Coll520_do029_interviewtext\", \"term\": \"lucas\", \"tfidf\": 0.6881917645055655}, {\"document\": \"Coll520_do029_interviewtext\", \"term\": \"baby\", \"tfidf\": 0.24132150308173944}, {\"document\": \"Coll520_do029_interviewtext\", \"term\": \"china\", \"tfidf\": 0.22575536829187895}, {\"document\": \"Coll520_do029_interviewtext\", \"term\": \"liane\", \"tfidf\": 0.15501927959413736}, {\"document\": \"Coll520_do029_interviewtext\", \"term\": \"chinese\", \"tfidf\": 0.15416907858907686}, {\"document\": \"Coll520_do029_interviewtext\", \"term\": \"really\", \"tfidf\": 0.1275510437616415}, {\"document\": \"Coll520_do029_interviewtext\", \"term\": \"know\", \"tfidf\": 0.12490499283371981}, {\"document\": \"Coll520_do029_interviewtext\", \"term\": \"long\", \"tfidf\": 0.10926620823191158}, {\"document\": \"Coll520_do029_interviewtext\", \"term\": \"yeah\", \"tfidf\": 0.10149592645185665}, {\"document\": \"Coll520_do029_interviewtext\", \"term\": \"orphanage\", \"tfidf\": 0.09784165056523848}, {\"document\": \"Coll520_do030_interviewtext\", \"term\": \"martin\", \"tfidf\": 0.39007989292376505}, {\"document\": \"Coll520_do030_interviewtext\", \"term\": \"like\", \"tfidf\": 0.27042466959115097}, {\"document\": \"Coll520_do030_interviewtext\", \"term\": \"said\", \"tfidf\": 0.18032471421791185}, {\"document\": \"Coll520_do030_interviewtext\", \"term\": \"programming\", \"tfidf\": 0.1665306435418707}, {\"document\": \"Coll520_do030_interviewtext\", \"term\": \"yeah\", \"tfidf\": 0.14942390057323107}, {\"document\": \"Coll520_do030_interviewtext\", \"term\": \"kind\", \"tfidf\": 0.14423175840435054}, {\"document\": \"Coll520_do030_interviewtext\", \"term\": \"going\", \"tfidf\": 0.13911023068300907}, {\"document\": \"Coll520_do030_interviewtext\", \"term\": \"people\", \"tfidf\": 0.13134371778701423}, {\"document\": \"Coll520_do030_interviewtext\", \"term\": \"forum\", \"tfidf\": 0.11335448569621855}, {\"document\": \"Coll520_do030_interviewtext\", \"term\": \"would\", \"tfidf\": 0.10816064864882179}, {\"document\": \"Coll520_do031_interviewtext\", \"term\": \"shirley\", \"tfidf\": 0.695281946556002}, {\"document\": \"Coll520_do031_interviewtext\", \"term\": \"mccauley\", \"tfidf\": 0.5233202941834965}, {\"document\": \"Coll520_do031_interviewtext\", \"term\": \"like\", \"tfidf\": 0.1678413021506956}, {\"document\": \"Coll520_do031_interviewtext\", \"term\": \"carolina\", \"tfidf\": 0.12242673848795274}, {\"document\": \"Coll520_do031_interviewtext\", \"term\": \"people\", \"tfidf\": 0.11344555247099743}, {\"document\": \"Coll520_do031_interviewtext\", \"term\": \"think\", \"tfidf\": 0.09529326808271507}, {\"document\": \"Coll520_do031_interviewtext\", \"term\": \"yeah\", \"tfidf\": 0.08919439463899537}, {\"document\": \"Coll520_do031_interviewtext\", \"term\": \"long\", \"tfidf\": 0.08468229282948254}, {\"document\": \"Coll520_do031_interviewtext\", \"term\": \"really\", \"tfidf\": 0.08466384549629549}, {\"document\": \"Coll520_do031_interviewtext\", \"term\": \"kind\", \"tfidf\": 0.08163068321794399}, {\"document\": \"Coll520_do032_interviewtext\", \"term\": \"mcintosh\", \"tfidf\": 0.7871113247656703}, {\"document\": \"Coll520_do032_interviewtext\", \"term\": \"really\", \"tfidf\": 0.1701687904703025}, {\"document\": \"Coll520_do032_interviewtext\", \"term\": \"mean\", \"tfidf\": 0.11148393775969008}, {\"document\": \"Coll520_do032_interviewtext\", \"term\": \"would\", \"tfidf\": 0.10212486023364156}, {\"document\": \"Coll520_do032_interviewtext\", \"term\": \"nilda\", \"tfidf\": 0.10152626339733031}, {\"document\": \"Coll520_do032_interviewtext\", \"term\": \"athletic\", \"tfidf\": 0.09404662784674207}, {\"document\": \"Coll520_do032_interviewtext\", \"term\": \"like\", \"tfidf\": 0.09241059193725557}, {\"document\": \"Coll520_do032_interviewtext\", \"term\": \"think\", \"tfidf\": 0.08429493207612658}, {\"document\": \"Coll520_do032_interviewtext\", \"term\": \"incredible\", \"tfidf\": 0.07881823399537544}, {\"document\": \"Coll520_do032_interviewtext\", \"term\": \"started\", \"tfidf\": 0.07783106947270864}, {\"document\": \"Coll520_do033_interviewtext\", \"term\": \"mcpherson\", \"tfidf\": 0.6975332277159761}, {\"document\": \"Coll520_do033_interviewtext\", \"term\": \"garrick\", \"tfidf\": 0.2977857141617434}, {\"document\": \"Coll520_do033_interviewtext\", \"term\": \"know\", \"tfidf\": 0.17611422968294127}, {\"document\": \"Coll520_do033_interviewtext\", \"term\": \"really\", \"tfidf\": 0.14368948656066494}, {\"document\": \"Coll520_do033_interviewtext\", \"term\": \"elise\", \"tfidf\": 0.12645396164651135}, {\"document\": \"Coll520_do033_interviewtext\", \"term\": \"sort\", \"tfidf\": 0.1176749013479849}, {\"document\": \"Coll520_do033_interviewtext\", \"term\": \"went\", \"tfidf\": 0.10777388455739977}, {\"document\": \"Coll520_do033_interviewtext\", \"term\": \"eden\", \"tfidf\": 0.10724462537903853}, {\"document\": \"Coll520_do033_interviewtext\", \"term\": \"like\", \"tfidf\": 0.10429689718622451}, {\"document\": \"Coll520_do033_interviewtext\", \"term\": \"kind\", \"tfidf\": 0.0957690565981012}, {\"document\": \"Coll520_do034_interviewtext\", \"term\": \"merrick\", \"tfidf\": 0.6146543833916018}, {\"document\": \"Coll520_do034_interviewtext\", \"term\": \"people\", \"tfidf\": 0.19067385977352996}, {\"document\": \"Coll520_do034_interviewtext\", \"term\": \"randy\", \"tfidf\": 0.17925352855997284}, {\"document\": \"Coll520_do034_interviewtext\", \"term\": \"really\", \"tfidf\": 0.17327271612954728}, {\"document\": \"Coll520_do034_interviewtext\", \"term\": \"like\", \"tfidf\": 0.15571944708742036}, {\"document\": \"Coll520_do034_interviewtext\", \"term\": \"time\", \"tfidf\": 0.1557849681784167}, {\"document\": \"Coll520_do034_interviewtext\", \"term\": \"going\", \"tfidf\": 0.14782266790026008}, {\"document\": \"Coll520_do034_interviewtext\", \"term\": \"think\", \"tfidf\": 0.13037395632666024}, {\"document\": \"Coll520_do034_interviewtext\", \"term\": \"long\", \"tfidf\": 0.12557060929769856}, {\"document\": \"Coll520_do034_interviewtext\", \"term\": \"one\", \"tfidf\": 0.12395270132007041}, {\"document\": \"Coll520_do035_interviewtext\", \"term\": \"miller\", \"tfidf\": 0.6872994909969522}, {\"document\": \"Coll520_do035_interviewtext\", \"term\": \"sarah\", \"tfidf\": 0.16173708805457035}, {\"document\": \"Coll520_do035_interviewtext\", \"term\": \"would\", \"tfidf\": 0.15416113018782615}, {\"document\": \"Coll520_do035_interviewtext\", \"term\": \"people\", \"tfidf\": 0.14585569597535952}, {\"document\": \"Coll520_do035_interviewtext\", \"term\": \"law\", \"tfidf\": 0.14221489854099778}, {\"document\": \"Coll520_do035_interviewtext\", \"term\": \"really\", \"tfidf\": 0.13096950577745128}, {\"document\": \"Coll520_do035_interviewtext\", \"term\": \"long\", \"tfidf\": 0.12935110861332258}, {\"document\": \"Coll520_do035_interviewtext\", \"term\": \"like\", \"tfidf\": 0.12764516742872897}, {\"document\": \"Coll520_do035_interviewtext\", \"term\": \"know\", \"tfidf\": 0.10605942859447788}, {\"document\": \"Coll520_do035_interviewtext\", \"term\": \"got\", \"tfidf\": 0.10442469227525392}, {\"document\": \"Coll520_do036_interviewtext\", \"term\": \"mindlin\", \"tfidf\": 0.8133400923159824}, {\"document\": \"Coll520_do036_interviewtext\", \"term\": \"rhys\", \"tfidf\": 0.17798941145015515}, {\"document\": \"Coll520_do036_interviewtext\", \"term\": \"bear\", \"tfidf\": 0.11752415476350511}, {\"document\": \"Coll520_do036_interviewtext\", \"term\": \"yeah\", \"tfidf\": 0.11365242628389995}, {\"document\": \"Coll520_do036_interviewtext\", \"term\": \"time\", \"tfidf\": 0.10121092438951368}, {\"document\": \"Coll520_do036_interviewtext\", \"term\": \"tree\", \"tfidf\": 0.10010996977096175}, {\"document\": \"Coll520_do036_interviewtext\", \"term\": \"long\", \"tfidf\": 0.09230705639566766}, {\"document\": \"Coll520_do036_interviewtext\", \"term\": \"know\", \"tfidf\": 0.08342882241039903}, {\"document\": \"Coll520_do036_interviewtext\", \"term\": \"people\", \"tfidf\": 0.0781374813301278}, {\"document\": \"Coll520_do036_interviewtext\", \"term\": \"crew\", \"tfidf\": 0.07454084117335825}, {\"document\": \"Coll520_do038_interviewtext\", \"term\": \"morrigan\", \"tfidf\": 0.7161062087484734}, {\"document\": \"Coll520_do038_interviewtext\", \"term\": \"mckenna\", \"tfidf\": 0.19118384640149966}, {\"document\": \"Coll520_do038_interviewtext\", \"term\": \"women\", \"tfidf\": 0.1310653583102689}, {\"document\": \"Coll520_do038_interviewtext\", \"term\": \"mean\", \"tfidf\": 0.12814874623933303}, {\"document\": \"Coll520_do038_interviewtext\", \"term\": \"said\", \"tfidf\": 0.11680122686651542}, {\"document\": \"Coll520_do038_interviewtext\", \"term\": \"would\", \"tfidf\": 0.11469175152769634}, {\"document\": \"Coll520_do038_interviewtext\", \"term\": \"well\", \"tfidf\": 0.102458041299457}, {\"document\": \"Coll520_do038_interviewtext\", \"term\": \"like\", \"tfidf\": 0.09420616691896945}, {\"document\": \"Coll520_do038_interviewtext\", \"term\": \"think\", \"tfidf\": 0.0921792304188773}, {\"document\": \"Coll520_do038_interviewtext\", \"term\": \"know\", \"tfidf\": 0.0901487619677001}, {\"document\": \"Coll520_do039_interviewtext\", \"term\": \"neeley\", \"tfidf\": 0.7764962582036011}, {\"document\": \"Coll520_do039_interviewtext\", \"term\": \"rose\", \"tfidf\": 0.5148569385038719}, {\"document\": \"Coll520_do039_interviewtext\", \"term\": \"yeah\", \"tfidf\": 0.12547046501896852}, {\"document\": \"Coll520_do039_interviewtext\", \"term\": \"dance\", \"tfidf\": 0.0922751231094094}, {\"document\": \"Coll520_do039_interviewtext\", \"term\": \"lyn\", \"tfidf\": 0.08967517374740742}, {\"document\": \"Coll520_do039_interviewtext\", \"term\": \"think\", \"tfidf\": 0.08471669522334399}, {\"document\": \"Coll520_do039_interviewtext\", \"term\": \"really\", \"tfidf\": 0.07510856549216156}, {\"document\": \"Coll520_do039_interviewtext\", \"term\": \"wallflower\", \"tfidf\": 0.06703747645001962}, {\"document\": \"Coll520_do039_interviewtext\", \"term\": \"krissy\", \"tfidf\": 0.06272500894626469}, {\"document\": \"Coll520_do039_interviewtext\", \"term\": \"like\", \"tfidf\": 0.06221644767672928}, {\"document\": \"Coll520_do040_interviewtext\", \"term\": \"webb\", \"tfidf\": 0.7993959042011984}, {\"document\": \"Coll520_do040_interviewtext\", \"term\": \"newman\", \"tfidf\": 0.5293622902964085}, {\"document\": \"Coll520_do040_interviewtext\", \"term\": \"liz\", \"tfidf\": 0.1212128363274772}, {\"document\": \"Coll520_do040_interviewtext\", \"term\": \"think\", \"tfidf\": 0.05374958718614399}, {\"document\": \"Coll520_do040_interviewtext\", \"term\": \"said\", \"tfidf\": 0.048686714744246504}, {\"document\": \"Coll520_do040_interviewtext\", \"term\": \"would\", \"tfidf\": 0.047620658115470685}, {\"document\": \"Coll520_do040_interviewtext\", \"term\": \"well\", \"tfidf\": 0.043534700573084874}, {\"document\": \"Coll520_do040_interviewtext\", \"term\": \"one\", \"tfidf\": 0.043006904581003154}, {\"document\": \"Coll520_do040_interviewtext\", \"term\": \"lansing\", \"tfidf\": 0.04228977262214487}, {\"document\": \"Coll520_do040_interviewtext\", \"term\": \"long\", \"tfidf\": 0.04200516487584927}, {\"document\": \"Coll520_do041_interviewtext\", \"term\": \"newman\", \"tfidf\": 0.7633733556826999}, {\"document\": \"Coll520_do041_interviewtext\", \"term\": \"long\", \"tfidf\": 0.15815993406587417}, {\"document\": \"Coll520_do041_interviewtext\", \"term\": \"people\", \"tfidf\": 0.145136905616788}, {\"document\": \"Coll520_do041_interviewtext\", \"term\": \"would\", \"tfidf\": 0.12093343013881043}, {\"document\": \"Coll520_do041_interviewtext\", \"term\": \"yeah\", \"tfidf\": 0.1208898131200986}, {\"document\": \"Coll520_do041_interviewtext\", \"term\": \"sherwood\", \"tfidf\": 0.11089405984395825}, {\"document\": \"Coll520_do041_interviewtext\", \"term\": \"think\", \"tfidf\": 0.10044287295744252}, {\"document\": \"Coll520_do041_interviewtext\", \"term\": \"women\", \"tfidf\": 0.09678725225747412}, {\"document\": \"Coll520_do041_interviewtext\", \"term\": \"said\", \"tfidf\": 0.0911709282967744}, {\"document\": \"Coll520_do041_interviewtext\", \"term\": \"one\", \"tfidf\": 0.08369001706280772}, {\"document\": \"Coll520_do042_interviewtext\", \"term\": \"baker\", \"tfidf\": 0.6399740829563536}, {\"document\": \"Coll520_do042_interviewtext\", \"term\": \"newman\", \"tfidf\": 0.5648682491314261}, {\"document\": \"Coll520_do042_interviewtext\", \"term\": \"really\", \"tfidf\": 0.13182759334148134}, {\"document\": \"Coll520_do042_interviewtext\", \"term\": \"like\", \"tfidf\": 0.1117491093405387}, {\"document\": \"Coll520_do042_interviewtext\", \"term\": \"yeah\", \"tfidf\": 0.10279840081255201}, {\"document\": \"Coll520_do042_interviewtext\", \"term\": \"long\", \"tfidf\": 0.09943530114378336}, {\"document\": \"Coll520_do042_interviewtext\", \"term\": \"think\", \"tfidf\": 0.09722553273913936}, {\"document\": \"Coll520_do042_interviewtext\", \"term\": \"womanshare\", \"tfidf\": 0.0929270972478228}, {\"document\": \"Coll520_do042_interviewtext\", \"term\": \"know\", \"tfidf\": 0.09162706306259377}, {\"document\": \"Coll520_do042_interviewtext\", \"term\": \"ginger\", \"tfidf\": 0.09016240597678513}, {\"document\": \"Coll520_do043_interviewtext\", \"term\": \"picariello\", \"tfidf\": 0.7242093301221643}, {\"document\": \"Coll520_do043_interviewtext\", \"term\": \"hunt\", \"tfidf\": 0.6440367360698289}, {\"document\": \"Coll520_do043_interviewtext\", \"term\": \"yeah\", \"tfidf\": 0.08215651437665275}, {\"document\": \"Coll520_do043_interviewtext\", \"term\": \"really\", \"tfidf\": 0.05409197818762692}, {\"document\": \"Coll520_do043_interviewtext\", \"term\": \"long\", \"tfidf\": 0.047941014466856446}, {\"document\": \"Coll520_do043_interviewtext\", \"term\": \"like\", \"tfidf\": 0.04656575934274349}, {\"document\": \"Coll520_do043_interviewtext\", \"term\": \"think\", \"tfidf\": 0.045171998957602516}, {\"document\": \"Coll520_do043_interviewtext\", \"term\": \"people\", \"tfidf\": 0.04316259925592306}, {\"document\": \"Coll520_do043_interviewtext\", \"term\": \"know\", \"tfidf\": 0.03360240612007298}, {\"document\": \"Coll520_do043_interviewtext\", \"term\": \"lot\", \"tfidf\": 0.033597707775226575}, {\"document\": \"Coll520_do044_interviewtext\", \"term\": \"pinckney\", \"tfidf\": 0.7893770026470288}, {\"document\": \"Coll520_do044_interviewtext\", \"term\": \"long\", \"tfidf\": 0.15409917814101529}, {\"document\": \"Coll520_do044_interviewtext\", \"term\": \"people\", \"tfidf\": 0.13457009254566235}, {\"document\": \"Coll520_do044_interviewtext\", \"term\": \"time\", \"tfidf\": 0.10767390259745739}, {\"document\": \"Coll520_do044_interviewtext\", \"term\": \"like\", \"tfidf\": 0.10518764976226604}, {\"document\": \"Coll520_do044_interviewtext\", \"term\": \"gay\", \"tfidf\": 0.09429019978826668}, {\"document\": \"Coll520_do044_interviewtext\", \"term\": \"law\", \"tfidf\": 0.09427530263279946}, {\"document\": \"Coll520_do044_interviewtext\", \"term\": \"student\", \"tfidf\": 0.09191637631155654}, {\"document\": \"Coll520_do044_interviewtext\", \"term\": \"jodie\", \"tfidf\": 0.08976496639208334}, {\"document\": \"Coll520_do044_interviewtext\", \"term\": \"lesbian\", \"tfidf\": 0.08810799841409173}, {\"document\": \"Coll520_do045_interviewtext\", \"term\": \"pitts\", \"tfidf\": 0.6288896616628191}, {\"document\": \"Coll520_do045_interviewtext\", \"term\": \"tracy\", \"tfidf\": 0.2481437768281483}, {\"document\": \"Coll520_do045_interviewtext\", \"term\": \"people\", \"tfidf\": 0.1577201932315554}, {\"document\": \"Coll520_do045_interviewtext\", \"term\": \"really\", \"tfidf\": 0.13311250321195706}, {\"document\": \"Coll520_do045_interviewtext\", \"term\": \"years\", \"tfidf\": 0.13110720020476024}, {\"document\": \"Coll520_do045_interviewtext\", \"term\": \"time\", \"tfidf\": 0.12696551452238533}, {\"document\": \"Coll520_do045_interviewtext\", \"term\": \"like\", \"tfidf\": 0.12081869297289273}, {\"document\": \"Coll520_do045_interviewtext\", \"term\": \"us\", \"tfidf\": 0.11264745796096946}, {\"document\": \"Coll520_do045_interviewtext\", \"term\": \"going\", \"tfidf\": 0.10447668861128213}, {\"document\": \"Coll520_do045_interviewtext\", \"term\": \"would\", \"tfidf\": 0.09831022882357415}, {\"document\": \"Coll520_do046_interviewtext\", \"term\": \"pupilli\", \"tfidf\": 0.7765789257732925}, {\"document\": \"Coll520_do046_interviewtext\", \"term\": \"think\", \"tfidf\": 0.17623378945606774}, {\"document\": \"Coll520_do046_interviewtext\", \"term\": \"really\", \"tfidf\": 0.13759348643619831}, {\"document\": \"Coll520_do046_interviewtext\", \"term\": \"australia\", \"tfidf\": 0.13670968666328356}, {\"document\": \"Coll520_do046_interviewtext\", \"term\": \"time\", \"tfidf\": 0.1086309984781345}, {\"document\": \"Coll520_do046_interviewtext\", \"term\": \"would\", \"tfidf\": 0.10870734762262134}, {\"document\": \"Coll520_do046_interviewtext\", \"term\": \"like\", \"tfidf\": 0.10379092573227355}, {\"document\": \"Coll520_do046_interviewtext\", \"term\": \"eugene\", \"tfidf\": 0.10146644392029319}, {\"document\": \"Coll520_do046_interviewtext\", \"term\": \"well\", \"tfidf\": 0.10140904675680881}, {\"document\": \"Coll520_do046_interviewtext\", \"term\": \"people\", \"tfidf\": 0.09905355664550058}, {\"document\": \"Coll520_do047_interviewtext\", \"term\": \"pyburn\", \"tfidf\": 0.551950823240777}, {\"document\": \"Coll520_do047_interviewtext\", \"term\": \"like\", \"tfidf\": 0.34101049078553525}, {\"document\": \"Coll520_do047_interviewtext\", \"term\": \"hawaii\", \"tfidf\": 0.1597773995033583}, {\"document\": \"Coll520_do047_interviewtext\", \"term\": \"one\", \"tfidf\": 0.13961594849648024}, {\"document\": \"Coll520_do047_interviewtext\", \"term\": \"yeah\", \"tfidf\": 0.13050453794081995}, {\"document\": \"Coll520_do047_interviewtext\", \"term\": \"would\", \"tfidf\": 0.10758892727814262}, {\"document\": \"Coll520_do047_interviewtext\", \"term\": \"back\", \"tfidf\": 0.10072094743226506}, {\"document\": \"Coll520_do047_interviewtext\", \"term\": \"little\", \"tfidf\": 0.09841464054040606}, {\"document\": \"Coll520_do047_interviewtext\", \"term\": \"okay\", \"tfidf\": 0.0974722386320074}, {\"document\": \"Coll520_do047_interviewtext\", \"term\": \"think\", \"tfidf\": 0.09617948821021977}, {\"document\": \"Coll520_do048_interviewtext\", \"term\": \"rees\", \"tfidf\": 0.720683817779263}, {\"document\": \"Coll520_do048_interviewtext\", \"term\": \"would\", \"tfidf\": 0.19265222439288981}, {\"document\": \"Coll520_do048_interviewtext\", \"term\": \"like\", \"tfidf\": 0.13897583280651526}, {\"document\": \"Coll520_do048_interviewtext\", \"term\": \"think\", \"tfidf\": 0.12322235864378915}, {\"document\": \"Coll520_do048_interviewtext\", \"term\": \"campus\", \"tfidf\": 0.11022720753772858}, {\"document\": \"Coll520_do048_interviewtext\", \"term\": \"time\", \"tfidf\": 0.10981414248235433}, {\"document\": \"Coll520_do048_interviewtext\", \"term\": \"long\", \"tfidf\": 0.09635768272862931}, {\"document\": \"Coll520_do048_interviewtext\", \"term\": \"esslinger\", \"tfidf\": 0.09246687083068249}, {\"document\": \"Coll520_do048_interviewtext\", \"term\": \"athletics\", \"tfidf\": 0.09038626369200664}, {\"document\": \"Coll520_do048_interviewtext\", \"term\": \"going\", \"tfidf\": 0.08970047347788927}, {\"document\": \"Coll520_do049_interviewtext\", \"term\": \"larosa\", \"tfidf\": 0.6860584245303392}, {\"document\": \"Coll520_do049_interviewtext\", \"term\": \"women\", \"tfidf\": 0.18312711040825008}, {\"document\": \"Coll520_do049_interviewtext\", \"term\": \"one\", \"tfidf\": 0.11910151355730764}, {\"document\": \"Coll520_do049_interviewtext\", \"term\": \"know\", \"tfidf\": 0.11596495705331125}, {\"document\": \"Coll520_do049_interviewtext\", \"term\": \"lot\", \"tfidf\": 0.11295334126443092}, {\"document\": \"Coll520_do049_interviewtext\", \"term\": \"like\", \"tfidf\": 0.09766312787353254}, {\"document\": \"Coll520_do049_interviewtext\", \"term\": \"donna\", \"tfidf\": 0.09573822114293534}, {\"document\": \"Coll520_do049_interviewtext\", \"term\": \"people\", \"tfidf\": 0.09469128686664867}, {\"document\": \"Coll520_do049_interviewtext\", \"term\": \"portland\", \"tfidf\": 0.09288435502744859}, {\"document\": \"Coll520_do049_interviewtext\", \"term\": \"got\", \"tfidf\": 0.09156590391476042}, {\"document\": \"Coll520_do051_interviewtext\", \"term\": \"ryan\", \"tfidf\": 0.48883653464259336}, {\"document\": \"Coll520_do051_interviewtext\", \"term\": \"shalan\", \"tfidf\": 0.27087992620954754}, {\"document\": \"Coll520_do051_interviewtext\", \"term\": \"women\", \"tfidf\": 0.18524924990192218}, {\"document\": \"Coll520_do051_interviewtext\", \"term\": \"people\", \"tfidf\": 0.16901799926432365}, {\"document\": \"Coll520_do051_interviewtext\", \"term\": \"one\", \"tfidf\": 0.16204808811611984}, {\"document\": \"Coll520_do051_interviewtext\", \"term\": \"would\", \"tfidf\": 0.16206498254949592}, {\"document\": \"Coll520_do051_interviewtext\", \"term\": \"lesbian\", \"tfidf\": 0.15284199715475533}, {\"document\": \"Coll520_do051_interviewtext\", \"term\": \"things\", \"tfidf\": 0.1389450860643394}, {\"document\": \"Coll520_do051_interviewtext\", \"term\": \"right\", \"tfidf\": 0.12971698572368115}, {\"document\": \"Coll520_do051_interviewtext\", \"term\": \"yeah\", \"tfidf\": 0.12967075121433633}, {\"document\": \"Coll520_do052_interviewtext\", \"term\": \"like\", \"tfidf\": 0.4128540023561152}, {\"document\": \"Coll520_do052_interviewtext\", \"term\": \"sager\", \"tfidf\": 0.39903987712397004}, {\"document\": \"Coll520_do052_interviewtext\", \"term\": \"know\", \"tfidf\": 0.23102997714260282}, {\"document\": \"Coll520_do052_interviewtext\", \"term\": \"really\", \"tfidf\": 0.18482079932998746}, {\"document\": \"Coll520_do052_interviewtext\", \"term\": \"susie\", \"tfidf\": 0.1665042732798163}, {\"document\": \"Coll520_do052_interviewtext\", \"term\": \"mean\", \"tfidf\": 0.13214539485077106}, {\"document\": \"Coll520_do052_interviewtext\", \"term\": \"going\", \"tfidf\": 0.12967681937809636}, {\"document\": \"Coll520_do052_interviewtext\", \"term\": \"women\", \"tfidf\": 0.12826400815695693}, {\"document\": \"Coll520_do052_interviewtext\", \"term\": \"ended\", \"tfidf\": 0.12692362451466033}, {\"document\": \"Coll520_do052_interviewtext\", \"term\": \"remember\", \"tfidf\": 0.12521339622255628}, {\"document\": \"Coll520_do053_interviewtext\", \"term\": \"samuelson\", \"tfidf\": 0.8810154808583381}, {\"document\": \"Coll520_do053_interviewtext\", \"term\": \"like\", \"tfidf\": 0.11088180588689273}, {\"document\": \"Coll520_do053_interviewtext\", \"term\": \"know\", \"tfidf\": 0.08922723510481782}, {\"document\": \"Coll520_do053_interviewtext\", \"term\": \"people\", \"tfidf\": 0.08926733083713138}, {\"document\": \"Coll520_do053_interviewtext\", \"term\": \"philadelphia\", \"tfidf\": 0.08643299932495369}, {\"document\": \"Coll520_do053_interviewtext\", \"term\": \"library\", \"tfidf\": 0.07476124547192549}, {\"document\": \"Coll520_do053_interviewtext\", \"term\": \"lesbian\", \"tfidf\": 0.07029972838332367}, {\"document\": \"Coll520_do053_interviewtext\", \"term\": \"harrisburg\", \"tfidf\": 0.06782653231489533}, {\"document\": \"Coll520_do053_interviewtext\", \"term\": \"get\", \"tfidf\": 0.06496963090936464}, {\"document\": \"Coll520_do053_interviewtext\", \"term\": \"go\", \"tfidf\": 0.06492948266552175}, {\"document\": \"Coll520_do054_interviewtext\", \"term\": \"scanlon\", \"tfidf\": 0.5697164315874229}, {\"document\": \"Coll520_do054_interviewtext\", \"term\": \"like\", \"tfidf\": 0.2625260967759585}, {\"document\": \"Coll520_do054_interviewtext\", \"term\": \"said\", \"tfidf\": 0.18512687110902662}, {\"document\": \"Coll520_do054_interviewtext\", \"term\": \"think\", \"tfidf\": 0.18243742258776194}, {\"document\": \"Coll520_do054_interviewtext\", \"term\": \"know\", \"tfidf\": 0.17685638288759636}, {\"document\": \"Coll520_do054_interviewtext\", \"term\": \"people\", \"tfidf\": 0.15204358943074148}, {\"document\": \"Coll520_do054_interviewtext\", \"term\": \"really\", \"tfidf\": 0.1188542382308656}, {\"document\": \"Coll520_do054_interviewtext\", \"term\": \"would\", \"tfidf\": 0.11881216490381141}, {\"document\": \"Coll520_do054_interviewtext\", \"term\": \"anyway\", \"tfidf\": 0.11094854468606258}, {\"document\": \"Coll520_do054_interviewtext\", \"term\": \"lesbian\", \"tfidf\": 0.10779150486934767}, {\"document\": \"Coll520_do055_interviewtext\", \"term\": \"sheklow\", \"tfidf\": 0.45831135111424937}, {\"document\": \"Coll520_do055_interviewtext\", \"term\": \"like\", \"tfidf\": 0.22195705297040752}, {\"document\": \"Coll520_do055_interviewtext\", \"term\": \"people\", \"tfidf\": 0.17319944211399227}, {\"document\": \"Coll520_do055_interviewtext\", \"term\": \"yeah\", \"tfidf\": 0.13900782068373602}, {\"document\": \"Coll520_do055_interviewtext\", \"term\": \"really\", \"tfidf\": 0.12925128595088553}, {\"document\": \"Coll520_do055_interviewtext\", \"term\": \"wedding\", \"tfidf\": 0.12264132171187901}, {\"document\": \"Coll520_do055_interviewtext\", \"term\": \"said\", \"tfidf\": 0.11707134998401622}, {\"document\": \"Coll520_do055_interviewtext\", \"term\": \"stuff\", \"tfidf\": 0.1083194316790849}, {\"document\": \"Coll520_do055_interviewtext\", \"term\": \"long\", \"tfidf\": 0.10484811921826773}, {\"document\": \"Coll520_do055_interviewtext\", \"term\": \"think\", \"tfidf\": 0.10488924045211724}, {\"document\": \"Coll520_do056_interviewtext\", \"term\": \"silvers\", \"tfidf\": 0.49847605867469486}, {\"document\": \"Coll520_do056_interviewtext\", \"term\": \"like\", \"tfidf\": 0.30794930171570445}, {\"document\": \"Coll520_do056_interviewtext\", \"term\": \"emma\", \"tfidf\": 0.23054231189959853}, {\"document\": \"Coll520_do056_interviewtext\", \"term\": \"people\", \"tfidf\": 0.1530873815634886}, {\"document\": \"Coll520_do056_interviewtext\", \"term\": \"time\", \"tfidf\": 0.15128692236628039}, {\"document\": \"Coll520_do056_interviewtext\", \"term\": \"kind\", \"tfidf\": 0.14059030758739743}, {\"document\": \"Coll520_do056_interviewtext\", \"term\": \"know\", \"tfidf\": 0.14061472669501848}, {\"document\": \"Coll520_do056_interviewtext\", \"term\": \"callie\", \"tfidf\": 0.13875291147362515}, {\"document\": \"Coll520_do056_interviewtext\", \"term\": \"would\", \"tfidf\": 0.12639110655771335}, {\"document\": \"Coll520_do056_interviewtext\", \"term\": \"oh\", \"tfidf\": 0.11931046818281951}, {\"document\": \"Coll520_do057_interviewtext\", \"term\": \"telsey\", \"tfidf\": 0.6883509773205748}, {\"document\": \"Coll520_do057_interviewtext\", \"term\": \"people\", \"tfidf\": 0.15643548063192217}, {\"document\": \"Coll520_do057_interviewtext\", \"term\": \"like\", \"tfidf\": 0.14961996799643618}, {\"document\": \"Coll520_do057_interviewtext\", \"term\": \"remember\", \"tfidf\": 0.14511666399445836}, {\"document\": \"Coll520_do057_interviewtext\", \"term\": \"think\", \"tfidf\": 0.1450829969031029}, {\"document\": \"Coll520_do057_interviewtext\", \"term\": \"lot\", \"tfidf\": 0.13827520179793257}, {\"document\": \"Coll520_do057_interviewtext\", \"term\": \"really\", \"tfidf\": 0.13824721523776973}, {\"document\": \"Coll520_do057_interviewtext\", \"term\": \"one\", \"tfidf\": 0.1224517546471197}, {\"document\": \"Coll520_do057_interviewtext\", \"term\": \"time\", \"tfidf\": 0.10879298955298455}, {\"document\": \"Coll520_do057_interviewtext\", \"term\": \"got\", \"tfidf\": 0.10657307266298502}, {\"document\": \"Coll520_do058_interviewtext\", \"term\": \"thompson\", \"tfidf\": 0.7063887685803875}, {\"document\": \"Coll520_do058_interviewtext\", \"term\": \"press\", \"tfidf\": 0.16763486520888354}, {\"document\": \"Coll520_do058_interviewtext\", \"term\": \"like\", \"tfidf\": 0.15820153886418997}, {\"document\": \"Coll520_do058_interviewtext\", \"term\": \"think\", \"tfidf\": 0.15385903642418286}, {\"document\": \"Coll520_do058_interviewtext\", \"term\": \"printing\", \"tfidf\": 0.1524324157753552}, {\"document\": \"Coll520_do058_interviewtext\", \"term\": \"print\", \"tfidf\": 0.1464714478160767}, {\"document\": \"Coll520_do058_interviewtext\", \"term\": \"yeah\", \"tfidf\": 0.14301073291275782}, {\"document\": \"Coll520_do058_interviewtext\", \"term\": \"really\", \"tfidf\": 0.12780958181277688}, {\"document\": \"Coll520_do058_interviewtext\", \"term\": \"know\", \"tfidf\": 0.12136393906649197}, {\"document\": \"Coll520_do058_interviewtext\", \"term\": \"printed\", \"tfidf\": 0.11115455632328484}, {\"document\": \"Coll520_do059_interviewtext\", \"term\": \"vaden\", \"tfidf\": 0.7520060495528741}, {\"document\": \"Coll520_do059_interviewtext\", \"term\": \"yeah\", \"tfidf\": 0.15751589071162148}, {\"document\": \"Coll520_do059_interviewtext\", \"term\": \"soulicious\", \"tfidf\": 0.14273321764150929}, {\"document\": \"Coll520_do059_interviewtext\", \"term\": \"sandi\", \"tfidf\": 0.12544696009125536}, {\"document\": \"Coll520_do059_interviewtext\", \"term\": \"like\", \"tfidf\": 0.12527986944724448}, {\"document\": \"Coll520_do059_interviewtext\", \"term\": \"path\", \"tfidf\": 0.10509803282075336}, {\"document\": \"Coll520_do059_interviewtext\", \"term\": \"blah\", \"tfidf\": 0.10413806253883334}, {\"document\": \"Coll520_do059_interviewtext\", \"term\": \"go\", \"tfidf\": 0.09487371054197734}, {\"document\": \"Coll520_do059_interviewtext\", \"term\": \"guitar\", \"tfidf\": 0.09261435541895618}, {\"document\": \"Coll520_do059_interviewtext\", \"term\": \"transister\", \"tfidf\": 0.0925490615237708}, {\"document\": \"Coll520_do060_interviewtext\", \"term\": \"brunt\", \"tfidf\": 0.8247193716955028}, {\"document\": \"Coll520_do060_interviewtext\", \"term\": \"van\", \"tfidf\": 0.419982202520571}, {\"document\": \"Coll520_do060_interviewtext\", \"term\": \"long\", \"tfidf\": 0.08867823899229106}, {\"document\": \"Coll520_do060_interviewtext\", \"term\": \"rakar\", \"tfidf\": 0.07734494828371687}, {\"document\": \"Coll520_do060_interviewtext\", \"term\": \"know\", \"tfidf\": 0.07489631218810891}, {\"document\": \"Coll520_do060_interviewtext\", \"term\": \"really\", \"tfidf\": 0.07072501329052963}, {\"document\": \"Coll520_do060_interviewtext\", \"term\": \"women\", \"tfidf\": 0.06789136149471503}, {\"document\": \"Coll520_do060_interviewtext\", \"term\": \"like\", \"tfidf\": 0.05682293340452041}, {\"document\": \"Coll520_do060_interviewtext\", \"term\": \"think\", \"tfidf\": 0.05684383291146064}, {\"document\": \"Coll520_do060_interviewtext\", \"term\": \"well\", \"tfidf\": 0.05690028993670261}, {\"document\": \"Coll520_do061_interviewtext\", \"term\": \"vitulli\", \"tfidf\": 0.7325840866917075}, {\"document\": \"Coll520_do061_interviewtext\", \"term\": \"sarah\", \"tfidf\": 0.243056614460234}, {\"document\": \"Coll520_do061_interviewtext\", \"term\": \"people\", \"tfidf\": 0.13380347657923225}, {\"document\": \"Coll520_do061_interviewtext\", \"term\": \"long\", \"tfidf\": 0.12193553601162213}, {\"document\": \"Coll520_do061_interviewtext\", \"term\": \"like\", \"tfidf\": 0.11597858533804845}, {\"document\": \"Coll520_do061_interviewtext\", \"term\": \"think\", \"tfidf\": 0.11002961200979479}, {\"document\": \"Coll520_do061_interviewtext\", \"term\": \"lot\", \"tfidf\": 0.10108279383912357}, {\"document\": \"Coll520_do061_interviewtext\", \"term\": \"get\", \"tfidf\": 0.09813752086218777}, {\"document\": \"Coll520_do061_interviewtext\", \"term\": \"faculty\", \"tfidf\": 0.0949015817900017}, {\"document\": \"Coll520_do061_interviewtext\", \"term\": \"one\", \"tfidf\": 0.09213633268045077}, {\"document\": \"Coll520_do062_interviewtext\", \"term\": \"west\", \"tfidf\": 0.3299536240144065}, {\"document\": \"Coll520_do062_interviewtext\", \"term\": \"lina\", \"tfidf\": 0.24269759902809182}, {\"document\": \"Coll520_do062_interviewtext\", \"term\": \"think\", \"tfidf\": 0.23106966515126276}, {\"document\": \"Coll520_do062_interviewtext\", \"term\": \"would\", \"tfidf\": 0.18674435638249823}, {\"document\": \"Coll520_do062_interviewtext\", \"term\": \"know\", \"tfidf\": 0.16459566582889157}, {\"document\": \"Coll520_do062_interviewtext\", \"term\": \"like\", \"tfidf\": 0.1645965296193836}, {\"document\": \"Coll520_do062_interviewtext\", \"term\": \"people\", \"tfidf\": 0.16148900579200076}, {\"document\": \"Coll520_do062_interviewtext\", \"term\": \"really\", \"tfidf\": 0.14560466279018092}, {\"document\": \"Coll520_do062_interviewtext\", \"term\": \"warehouse\", \"tfidf\": 0.1272050637619432}, {\"document\": \"Coll520_do062_interviewtext\", \"term\": \"go\", \"tfidf\": 0.12663121345575246}, {\"document\": \"Coll520_do063_interviewtext\", \"term\": \"wilder\", \"tfidf\": 0.45993356148714987}, {\"document\": \"Coll520_do063_interviewtext\", \"term\": \"like\", \"tfidf\": 0.2995395274646618}, {\"document\": \"Coll520_do063_interviewtext\", \"term\": \"owl\", \"tfidf\": 0.2434342181005557}, {\"document\": \"Coll520_do063_interviewtext\", \"term\": \"marty\", \"tfidf\": 0.22675671150751017}, {\"document\": \"Coll520_do063_interviewtext\", \"term\": \"know\", \"tfidf\": 0.1635264371058135}, {\"document\": \"Coll520_do063_interviewtext\", \"term\": \"women\", \"tfidf\": 0.15061277848696164}, {\"document\": \"Coll520_do063_interviewtext\", \"term\": \"gani\", \"tfidf\": 0.13531617388385095}, {\"document\": \"Coll520_do063_interviewtext\", \"term\": \"farm\", \"tfidf\": 0.12828217207310846}, {\"document\": \"Coll520_do063_interviewtext\", \"term\": \"a\\u00f3daga\\u00edn\", \"tfidf\": 0.12614799848639452}, {\"document\": \"Coll520_do063_interviewtext\", \"term\": \"n\\u00ed\", \"tfidf\": 0.12617102639720013}, {\"document\": \"Coll520_do065_interviewtext\", \"term\": \"barry\", \"tfidf\": 0.6400112420022442}, {\"document\": \"Coll520_do065_interviewtext\", \"term\": \"women\", \"tfidf\": 0.22945786656729192}, {\"document\": \"Coll520_do065_interviewtext\", \"term\": \"think\", \"tfidf\": 0.14902210631638368}, {\"document\": \"Coll520_do065_interviewtext\", \"term\": \"yeah\", \"tfidf\": 0.11967391242565718}, {\"document\": \"Coll520_do065_interviewtext\", \"term\": \"chorus\", \"tfidf\": 0.11501518683577948}, {\"document\": \"Coll520_do065_interviewtext\", \"term\": \"people\", \"tfidf\": 0.10594958514312669}, {\"document\": \"Coll520_do065_interviewtext\", \"term\": \"england\", \"tfidf\": 0.10351412470483717}, {\"document\": \"Coll520_do065_interviewtext\", \"term\": \"kind\", \"tfidf\": 0.1019529801401386}, {\"document\": \"Coll520_do065_interviewtext\", \"term\": \"know\", \"tfidf\": 0.10194864100950532}, {\"document\": \"Coll520_do065_interviewtext\", \"term\": \"lesbian\", \"tfidf\": 0.10202411082995032}, {\"document\": \"Coll520_do066_interviewtext\", \"term\": \"conway\", \"tfidf\": 0.7977162390233912}, {\"document\": \"Coll520_do066_interviewtext\", \"term\": \"like\", \"tfidf\": 0.2719317035341492}, {\"document\": \"Coll520_do066_interviewtext\", \"term\": \"know\", \"tfidf\": 0.16011019551294395}, {\"document\": \"Coll520_do066_interviewtext\", \"term\": \"would\", \"tfidf\": 0.11507511890748139}, {\"document\": \"Coll520_do066_interviewtext\", \"term\": \"really\", \"tfidf\": 0.10573984726959576}, {\"document\": \"Coll520_do066_interviewtext\", \"term\": \"yeah\", \"tfidf\": 0.09480330533267184}, {\"document\": \"Coll520_do066_interviewtext\", \"term\": \"people\", \"tfidf\": 0.08088029915453093}, {\"document\": \"Coll520_do066_interviewtext\", \"term\": \"time\", \"tfidf\": 0.08086226905272338}, {\"document\": \"Coll520_do066_interviewtext\", \"term\": \"truckers\", \"tfidf\": 0.07985516317473171}, {\"document\": \"Coll520_do066_interviewtext\", \"term\": \"marty\", \"tfidf\": 0.07865417826574986}, {\"document\": \"Coll520_do067_interviewtext\", \"term\": \"elliott\", \"tfidf\": 0.7118677520540643}, {\"document\": \"Coll520_do067_interviewtext\", \"term\": \"booth\", \"tfidf\": 0.13660794147708114}, {\"document\": \"Coll520_do067_interviewtext\", \"term\": \"margaret\", \"tfidf\": 0.13135560771417126}, {\"document\": \"Coll520_do067_interviewtext\", \"term\": \"got\", \"tfidf\": 0.1258826159868668}, {\"document\": \"Coll520_do067_interviewtext\", \"term\": \"fair\", \"tfidf\": 0.12527434651935102}, {\"document\": \"Coll520_do067_interviewtext\", \"term\": \"people\", \"tfidf\": 0.10840599064814292}, {\"document\": \"Coll520_do067_interviewtext\", \"term\": \"would\", \"tfidf\": 0.10832751385396508}, {\"document\": \"Coll520_do067_interviewtext\", \"term\": \"jewish\", \"tfidf\": 0.10711475271125784}, {\"document\": \"Coll520_do067_interviewtext\", \"term\": \"going\", \"tfidf\": 0.10399969624368303}, {\"document\": \"Coll520_do067_interviewtext\", \"term\": \"said\", \"tfidf\": 0.10105501225962044}, {\"document\": \"Coll520_do068_interviewtext\", \"term\": \"landforce\", \"tfidf\": 0.7004401943784866}, {\"document\": \"Coll520_do068_interviewtext\", \"term\": \"like\", \"tfidf\": 0.1701725348227365}, {\"document\": \"Coll520_do068_interviewtext\", \"term\": \"people\", \"tfidf\": 0.15112253099664888}, {\"document\": \"Coll520_do068_interviewtext\", \"term\": \"one\", \"tfidf\": 0.1424502370290472}, {\"document\": \"Coll520_do068_interviewtext\", \"term\": \"women\", \"tfidf\": 0.1407058741402123}, {\"document\": \"Coll520_do068_interviewtext\", \"term\": \"know\", \"tfidf\": 0.1320274673221646}, {\"document\": \"Coll520_do068_interviewtext\", \"term\": \"would\", \"tfidf\": 0.1285674290720566}, {\"document\": \"Coll520_do068_interviewtext\", \"term\": \"time\", \"tfidf\": 0.12501022498973893}, {\"document\": \"Coll520_do068_interviewtext\", \"term\": \"really\", \"tfidf\": 0.11985919044666733}, {\"document\": \"Coll520_do068_interviewtext\", \"term\": \"well\", \"tfidf\": 0.11807342530001473}, {\"document\": \"Coll520_do069_interviewtext\", \"term\": \"laskaya\", \"tfidf\": 0.5338752754276095}, {\"document\": \"Coll520_do069_interviewtext\", \"term\": \"suzy\", \"tfidf\": 0.522898684211741}, {\"document\": \"Coll520_do069_interviewtext\", \"term\": \"really\", \"tfidf\": 0.17036140048587486}, {\"document\": \"Coll520_do069_interviewtext\", \"term\": \"know\", \"tfidf\": 0.12569151097073436}, {\"document\": \"Coll520_do069_interviewtext\", \"term\": \"surgery\", \"tfidf\": 0.11599400434730436}, {\"document\": \"Coll520_do069_interviewtext\", \"term\": \"like\", \"tfidf\": 0.11408633349474802}, {\"document\": \"Coll520_do069_interviewtext\", \"term\": \"said\", \"tfidf\": 0.10747742198248307}, {\"document\": \"Coll520_do069_interviewtext\", \"term\": \"would\", \"tfidf\": 0.10417672296866771}, {\"document\": \"Coll520_do069_interviewtext\", \"term\": \"school\", \"tfidf\": 0.09921236004774293}, {\"document\": \"Coll520_do069_interviewtext\", \"term\": \"time\", \"tfidf\": 0.09422870615827048}, {\"document\": \"Coll520_do070_interviewtext\", \"term\": \"rifkin\", \"tfidf\": 0.8443390328042}, {\"document\": \"Coll520_do070_interviewtext\", \"term\": \"lorraine\", \"tfidf\": 0.1726867422235162}, {\"document\": \"Coll520_do070_interviewtext\", \"term\": \"izzie\", \"tfidf\": 0.11082215033063164}, {\"document\": \"Coll520_do070_interviewtext\", \"term\": \"store\", \"tfidf\": 0.10895277807173194}, {\"document\": \"Coll520_do070_interviewtext\", \"term\": \"people\", \"tfidf\": 0.1006090663977534}, {\"document\": \"Coll520_do070_interviewtext\", \"term\": \"think\", \"tfidf\": 0.09099151340828279}, {\"document\": \"Coll520_do070_interviewtext\", \"term\": \"cruz\", \"tfidf\": 0.09034029480066766}, {\"document\": \"Coll520_do070_interviewtext\", \"term\": \"jewish\", \"tfidf\": 0.0799095822402737}, {\"document\": \"Coll520_do070_interviewtext\", \"term\": \"community\", \"tfidf\": 0.0774473193608385}, {\"document\": \"Coll520_do070_interviewtext\", \"term\": \"lesbian\", \"tfidf\": 0.0735895780292994}, {\"document\": \"Coll520_do071_interviewtext\", \"term\": \"stockford\", \"tfidf\": 0.8664477341790902}, {\"document\": \"Coll520_do071_interviewtext\", \"term\": \"like\", \"tfidf\": 0.09220468183995155}, {\"document\": \"Coll520_do071_interviewtext\", \"term\": \"sky\", \"tfidf\": 0.08690188939570911}, {\"document\": \"Coll520_do071_interviewtext\", \"term\": \"long\", \"tfidf\": 0.08425178266008086}, {\"document\": \"Coll520_do071_interviewtext\", \"term\": \"women\", \"tfidf\": 0.08265432241070664}, {\"document\": \"Coll520_do071_interviewtext\", \"term\": \"elkay\", \"tfidf\": 0.07576892499181291}, {\"document\": \"Coll520_do071_interviewtext\", \"term\": \"know\", \"tfidf\": 0.07469429096653042}, {\"document\": \"Coll520_do071_interviewtext\", \"term\": \"lesbian\", \"tfidf\": 0.07315976989767263}, {\"document\": \"Coll520_do071_interviewtext\", \"term\": \"really\", \"tfidf\": 0.07151141180757174}, {\"document\": \"Coll520_do071_interviewtext\", \"term\": \"time\", \"tfidf\": 0.06834282088570054}, {\"document\": \"Coll520_do072_interviewtext\", \"term\": \"thelen\", \"tfidf\": 0.6629615413665463}, {\"document\": \"Coll520_do072_interviewtext\", \"term\": \"like\", \"tfidf\": 0.3322752889047682}, {\"document\": \"Coll520_do072_interviewtext\", \"term\": \"really\", \"tfidf\": 0.2162363171226941}, {\"document\": \"Coll520_do072_interviewtext\", \"term\": \"know\", \"tfidf\": 0.18597257651758284}, {\"document\": \"Coll520_do072_interviewtext\", \"term\": \"people\", \"tfidf\": 0.1335502262090033}, {\"document\": \"Coll520_do072_interviewtext\", \"term\": \"go\", \"tfidf\": 0.1208727940466725}, {\"document\": \"Coll520_do072_interviewtext\", \"term\": \"would\", \"tfidf\": 0.11291045504365005}, {\"document\": \"Coll520_do072_interviewtext\", \"term\": \"gay\", \"tfidf\": 0.10157974857346817}, {\"document\": \"Coll520_do072_interviewtext\", \"term\": \"going\", \"tfidf\": 0.10021956438406553}, {\"document\": \"Coll520_do072_interviewtext\", \"term\": \"mean\", \"tfidf\": 0.0912184702881954}, {\"document\": \"Coll520_do073_interviewtext\", \"term\": \"winterman\", \"tfidf\": 0.8631562810014327}, {\"document\": \"Coll520_do073_interviewtext\", \"term\": \"people\", \"tfidf\": 0.127044507671807}, {\"document\": \"Coll520_do073_interviewtext\", \"term\": \"women\", \"tfidf\": 0.09420228380235895}, {\"document\": \"Coll520_do073_interviewtext\", \"term\": \"like\", \"tfidf\": 0.08541390386336595}, {\"document\": \"Coll520_do073_interviewtext\", \"term\": \"lot\", \"tfidf\": 0.08540012497953618}, {\"document\": \"Coll520_do073_interviewtext\", \"term\": \"went\", \"tfidf\": 0.07671906996253651}, {\"document\": \"Coll520_do073_interviewtext\", \"term\": \"long\", \"tfidf\": 0.06576572059479946}, {\"document\": \"Coll520_do073_interviewtext\", \"term\": \"think\", \"tfidf\": 0.06569485945397782}, {\"document\": \"Coll520_do073_interviewtext\", \"term\": \"one\", \"tfidf\": 0.061370846221804984}, {\"document\": \"Coll520_do073_interviewtext\", \"term\": \"penn\", \"tfidf\": 0.05966195562977531}, {\"document\": \"Coll520_do074_interviewtext\", \"term\": \"rubin\", \"tfidf\": 0.7714081612408732}, {\"document\": \"Coll520_do074_interviewtext\", \"term\": \"women\", \"tfidf\": 0.15331793233177196}, {\"document\": \"Coll520_do074_interviewtext\", \"term\": \"think\", \"tfidf\": 0.13973548794085755}, {\"document\": \"Coll520_do074_interviewtext\", \"term\": \"like\", \"tfidf\": 0.1328615892407452}, {\"document\": \"Coll520_do074_interviewtext\", \"term\": \"community\", \"tfidf\": 0.09879830778047094}, {\"document\": \"Coll520_do074_interviewtext\", \"term\": \"lesbian\", \"tfidf\": 0.09539003166607013}, {\"document\": \"Coll520_do074_interviewtext\", \"term\": \"fun\", \"tfidf\": 0.08289431384610266}, {\"document\": \"Coll520_do074_interviewtext\", \"term\": \"going\", \"tfidf\": 0.07835674442862835}, {\"document\": \"Coll520_do074_interviewtext\", \"term\": \"kind\", \"tfidf\": 0.07834870795234467}, {\"document\": \"Coll520_do074_interviewtext\", \"term\": \"time\", \"tfidf\": 0.07840261055948276}]}}, {\"mode\": \"vega-lite\"});\n",
       "</script>"
      ],
      "text/plain": [
       "alt.LayerChart(...)"
      ]
     },
     "execution_count": 22,
     "metadata": {},
     "output_type": "execute_result"
    }
   ],
   "source": [
    "import altair as alt\n",
    "import numpy as np\n",
    "\n",
    "# Terms in this list will get a red dot in the visualization\n",
    "term_list = ['war', 'peace']\n",
    "\n",
    "# adding a little randomness to break ties in term ranking\n",
    "top_tfidf_plusRand = top_tfidf.copy()\n",
    "top_tfidf_plusRand['tfidf'] = top_tfidf_plusRand['tfidf'] + np.random.rand(top_tfidf.shape[0])*0.0001\n",
    "\n",
    "# base for all visualizations, with rank calculation\n",
    "base = alt.Chart(top_tfidf_plusRand).encode(\n",
    "    x = 'rank:O',\n",
    "    y = 'document:N'\n",
    ").transform_window(\n",
    "    rank = \"rank()\",\n",
    "    sort = [alt.SortField(\"tfidf\", order=\"descending\")],\n",
    "    groupby = [\"document\"],\n",
    ")\n",
    "\n",
    "# heatmap specification\n",
    "heatmap = base.mark_rect().encode(\n",
    "    color = 'tfidf:Q'\n",
    ")\n",
    "\n",
    "# red circle over terms in above list\n",
    "circle = base.mark_circle(size=100).encode(\n",
    "    color = alt.condition(\n",
    "        alt.FieldOneOfPredicate(field='term', oneOf=term_list),\n",
    "        alt.value('red'),\n",
    "        alt.value('#FFFFFF00')        \n",
    "    )\n",
    ")\n",
    "\n",
    "# text labels, white for darker heatmap colors\n",
    "text = base.mark_text(baseline='middle').encode(\n",
    "    text = 'term:N',\n",
    "    color = alt.condition(alt.datum.tfidf >= 0.23, alt.value('white'), alt.value('black'))\n",
    ")\n",
    "\n",
    "# display the three superimposed visualizations\n",
    "(heatmap + circle + text).properties(width = 600)"
   ]
  },
  {
   "cell_type": "markdown",
   "metadata": {},
   "source": [
    "## Your Turn!"
   ]
  },
  {
   "cell_type": "markdown",
   "metadata": {},
   "source": [
    "Take a few minutes to explore the dataframe below and then answer the following questions."
   ]
  },
  {
   "cell_type": "markdown",
   "metadata": {},
   "source": [
    "**1.** What is the difference between a tf-idf score and raw word frequency?"
   ]
  },
  {
   "cell_type": "markdown",
   "metadata": {
    "tags": [
     "hide-cell",
     "remove-cell"
    ]
   },
   "source": [
    "**Your answer here**"
   ]
  },
  {
   "cell_type": "markdown",
   "metadata": {},
   "source": [
    "**2.** Based on the dataframe above, what is one potential problem or limitation that you notice with tf-idf scores?"
   ]
  },
  {
   "cell_type": "markdown",
   "metadata": {
    "tags": [
     "hide-cell",
     "remove-cell"
    ]
   },
   "source": [
    "**Your answer here**"
   ]
  },
  {
   "cell_type": "markdown",
   "metadata": {},
   "source": [
    "**3.** What's another collection of texts that you think might be interesting to analyze with tf-idf scores?  Why?"
   ]
  },
  {
   "cell_type": "markdown",
   "metadata": {
    "tags": [
     "hide-cell",
     "remove-cell"
    ]
   },
   "source": [
    "**Your answer here**"
   ]
  }
 ],
 "metadata": {
  "kernelspec": {
   "display_name": "Python 3 (ipykernel)",
   "language": "python",
   "name": "python3"
  },
  "language_info": {
   "codemirror_mode": {
    "name": "ipython",
    "version": 3
   },
   "file_extension": ".py",
   "mimetype": "text/x-python",
   "name": "python",
   "nbconvert_exporter": "python",
   "pygments_lexer": "ipython3",
   "version": "3.9.7"
  }
 },
 "nbformat": 4,
 "nbformat_minor": 4
}
